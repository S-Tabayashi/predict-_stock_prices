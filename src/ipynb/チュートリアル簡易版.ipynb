{
 "cells": [
  {
   "cell_type": "markdown",
   "metadata": {},
   "source": [
    "# Imports & Load Data\n",
    "作業に必要なライブラリをインポートして、 以下のデータを読み込みます。\n",
    "\n",
    "* stock_price : 株価情報\n",
    "* stock_list : 銘柄情報\n",
    "* stock_fin : 財務諸表\n",
    "* stock_labels : 目的変数"
   ]
  },
  {
   "cell_type": "code",
   "execution_count": 5,
   "metadata": {},
   "outputs": [],
   "source": [
    "import os\n",
    "import pickle\n",
    "import sys\n",
    "import warnings\n",
    "from glob import glob\n",
    "\n",
    "import matplotlib\n",
    "import matplotlib.pyplot as plt\n",
    "import numpy as np\n",
    "import pandas as pd\n",
    "import seaborn as sns\n",
    "import shap\n",
    "import  xgboost as xgb\n",
    "from scipy.stats import spearmanr\n",
    "from sklearn.ensemble import (\n",
    "    ExtraTreesRegressor,\n",
    "    GradientBoostingRegressor,\n",
    "    RandomForestRegressor,\n",
    ")\n",
    "from sklearn.metrics import accuracy_score, mean_squared_error\n",
    "from tqdm.auto import tqdm\n",
    "\n",
    "\n",
    "# 表示用の設定を変更します\n",
    "%matplotlib inline\n",
    "pd.options.display.max_rows = 100\n",
    "pd.options.display.max_columns = 100\n",
    "pd.options.display.width = 120"
   ]
  },
  {
   "cell_type": "code",
   "execution_count": 1,
   "metadata": {},
   "outputs": [
    {
     "name": "stdout",
     "output_type": "stream",
     "text": [
      "3.7.3 (default, Mar 27 2019, 22:11:17) \n",
      "[GCC 7.3.0]\n"
     ]
    }
   ],
   "source": [
    "# python 3.7.3であることを確認します\n",
    "import sys\n",
    "print(sys.version)"
   ]
  },
  {
   "cell_type": "code",
   "execution_count": 2,
   "metadata": {},
   "outputs": [],
   "source": [
    "# データセット保存先ディレクトリ（\"\"の中身はご自身の環境に合わせて定義してください。）\n",
    "dataset_dir=\"/path/to\""
   ]
  },
  {
   "cell_type": "code",
   "execution_count": 3,
   "metadata": {},
   "outputs": [],
   "source": [
    "inputs = {\"stock_price\": f\"{dataset_dir}/stock_price.csv.gz\"}"
   ]
  },
  {
   "cell_type": "code",
   "execution_count": 7,
   "metadata": {},
   "outputs": [
    {
     "data": {
      "text/html": [
       "<div>\n",
       "<style scoped>\n",
       "    .dataframe tbody tr th:only-of-type {\n",
       "        vertical-align: middle;\n",
       "    }\n",
       "\n",
       "    .dataframe tbody tr th {\n",
       "        vertical-align: top;\n",
       "    }\n",
       "\n",
       "    .dataframe thead th {\n",
       "        text-align: right;\n",
       "    }\n",
       "</style>\n",
       "<table border=\"1\" class=\"dataframe\">\n",
       "  <thead>\n",
       "    <tr style=\"text-align: right;\">\n",
       "      <th></th>\n",
       "      <th>Local Code</th>\n",
       "      <th>EndOfDayQuote Date</th>\n",
       "      <th>EndOfDayQuote Open</th>\n",
       "      <th>EndOfDayQuote High</th>\n",
       "      <th>EndOfDayQuote Low</th>\n",
       "      <th>EndOfDayQuote Close</th>\n",
       "      <th>EndOfDayQuote ExchangeOfficialClose</th>\n",
       "      <th>EndOfDayQuote Volume</th>\n",
       "      <th>EndOfDayQuote CumulativeAdjustmentFactor</th>\n",
       "      <th>EndOfDayQuote PreviousClose</th>\n",
       "      <th>EndOfDayQuote PreviousCloseDate</th>\n",
       "      <th>EndOfDayQuote PreviousExchangeOfficialClose</th>\n",
       "      <th>EndOfDayQuote PreviousExchangeOfficialCloseDate</th>\n",
       "      <th>EndOfDayQuote ChangeFromPreviousClose</th>\n",
       "      <th>EndOfDayQuote PercentChangeFromPreviousClose</th>\n",
       "      <th>EndOfDayQuote VWAP</th>\n",
       "    </tr>\n",
       "  </thead>\n",
       "  <tbody>\n",
       "    <tr>\n",
       "      <th>0</th>\n",
       "      <td>1301</td>\n",
       "      <td>2016/01/04</td>\n",
       "      <td>2800.0</td>\n",
       "      <td>2820.0</td>\n",
       "      <td>2740.0</td>\n",
       "      <td>2750.0</td>\n",
       "      <td>2750.0</td>\n",
       "      <td>32000.0</td>\n",
       "      <td>0.1</td>\n",
       "      <td>2770.0</td>\n",
       "      <td>2015/12/30</td>\n",
       "      <td>2770.0</td>\n",
       "      <td>2015/12/30</td>\n",
       "      <td>-20.0</td>\n",
       "      <td>-0.722</td>\n",
       "      <td>2778.25</td>\n",
       "    </tr>\n",
       "  </tbody>\n",
       "</table>\n",
       "</div>"
      ],
      "text/plain": [
       "   Local Code EndOfDayQuote Date  EndOfDayQuote Open  EndOfDayQuote High  EndOfDayQuote Low  EndOfDayQuote Close  \\\n",
       "0        1301         2016/01/04              2800.0              2820.0             2740.0               2750.0   \n",
       "\n",
       "   EndOfDayQuote ExchangeOfficialClose  EndOfDayQuote Volume  EndOfDayQuote CumulativeAdjustmentFactor  \\\n",
       "0                               2750.0               32000.0                                       0.1   \n",
       "\n",
       "   EndOfDayQuote PreviousClose EndOfDayQuote PreviousCloseDate  EndOfDayQuote PreviousExchangeOfficialClose  \\\n",
       "0                       2770.0                      2015/12/30                                       2770.0   \n",
       "\n",
       "  EndOfDayQuote PreviousExchangeOfficialCloseDate  EndOfDayQuote ChangeFromPreviousClose  \\\n",
       "0                                      2015/12/30                                  -20.0   \n",
       "\n",
       "   EndOfDayQuote PercentChangeFromPreviousClose  EndOfDayQuote VWAP  \n",
       "0                                        -0.722             2778.25  "
      ]
     },
     "execution_count": 7,
     "metadata": {},
     "output_type": "execute_result"
    }
   ],
   "source": [
    "df = pd.read_csv(inputs[\"stock_price\"])\n",
    "df.head(1)"
   ]
  },
  {
   "cell_type": "code",
   "execution_count": 8,
   "metadata": {},
   "outputs": [
    {
     "data": {
      "text/html": [
       "<div>\n",
       "<style scoped>\n",
       "    .dataframe tbody tr th:only-of-type {\n",
       "        vertical-align: middle;\n",
       "    }\n",
       "\n",
       "    .dataframe tbody tr th {\n",
       "        vertical-align: top;\n",
       "    }\n",
       "\n",
       "    .dataframe thead th {\n",
       "        text-align: right;\n",
       "    }\n",
       "</style>\n",
       "<table border=\"1\" class=\"dataframe\">\n",
       "  <thead>\n",
       "    <tr style=\"text-align: right;\">\n",
       "      <th></th>\n",
       "      <th>Local Code</th>\n",
       "      <th>EndOfDayQuote Date</th>\n",
       "      <th>EndOfDayQuote Open</th>\n",
       "      <th>EndOfDayQuote High</th>\n",
       "      <th>EndOfDayQuote Low</th>\n",
       "      <th>EndOfDayQuote Close</th>\n",
       "      <th>EndOfDayQuote ExchangeOfficialClose</th>\n",
       "      <th>EndOfDayQuote Volume</th>\n",
       "      <th>EndOfDayQuote CumulativeAdjustmentFactor</th>\n",
       "      <th>EndOfDayQuote PreviousClose</th>\n",
       "      <th>EndOfDayQuote PreviousCloseDate</th>\n",
       "      <th>EndOfDayQuote PreviousExchangeOfficialClose</th>\n",
       "      <th>EndOfDayQuote PreviousExchangeOfficialCloseDate</th>\n",
       "      <th>EndOfDayQuote ChangeFromPreviousClose</th>\n",
       "      <th>EndOfDayQuote PercentChangeFromPreviousClose</th>\n",
       "      <th>EndOfDayQuote VWAP</th>\n",
       "    </tr>\n",
       "    <tr>\n",
       "      <th>datetime</th>\n",
       "      <th></th>\n",
       "      <th></th>\n",
       "      <th></th>\n",
       "      <th></th>\n",
       "      <th></th>\n",
       "      <th></th>\n",
       "      <th></th>\n",
       "      <th></th>\n",
       "      <th></th>\n",
       "      <th></th>\n",
       "      <th></th>\n",
       "      <th></th>\n",
       "      <th></th>\n",
       "      <th></th>\n",
       "      <th></th>\n",
       "      <th></th>\n",
       "    </tr>\n",
       "  </thead>\n",
       "  <tbody>\n",
       "    <tr>\n",
       "      <th>2016-01-04</th>\n",
       "      <td>1301</td>\n",
       "      <td>2016/01/04</td>\n",
       "      <td>2800.0</td>\n",
       "      <td>2820.0</td>\n",
       "      <td>2740.0</td>\n",
       "      <td>2750.0</td>\n",
       "      <td>2750.0</td>\n",
       "      <td>32000.0</td>\n",
       "      <td>0.1</td>\n",
       "      <td>2770.0</td>\n",
       "      <td>2015/12/30</td>\n",
       "      <td>2770.0</td>\n",
       "      <td>2015/12/30</td>\n",
       "      <td>-20.0</td>\n",
       "      <td>-0.722</td>\n",
       "      <td>2778.25</td>\n",
       "    </tr>\n",
       "  </tbody>\n",
       "</table>\n",
       "</div>"
      ],
      "text/plain": [
       "            Local Code EndOfDayQuote Date  EndOfDayQuote Open  EndOfDayQuote High  EndOfDayQuote Low  \\\n",
       "datetime                                                                                               \n",
       "2016-01-04        1301         2016/01/04              2800.0              2820.0             2740.0   \n",
       "\n",
       "            EndOfDayQuote Close  EndOfDayQuote ExchangeOfficialClose  EndOfDayQuote Volume  \\\n",
       "datetime                                                                                     \n",
       "2016-01-04               2750.0                               2750.0               32000.0   \n",
       "\n",
       "            EndOfDayQuote CumulativeAdjustmentFactor  EndOfDayQuote PreviousClose EndOfDayQuote PreviousCloseDate  \\\n",
       "datetime                                                                                                            \n",
       "2016-01-04                                       0.1                       2770.0                      2015/12/30   \n",
       "\n",
       "            EndOfDayQuote PreviousExchangeOfficialClose EndOfDayQuote PreviousExchangeOfficialCloseDate  \\\n",
       "datetime                                                                                                  \n",
       "2016-01-04                                       2770.0                                      2015/12/30   \n",
       "\n",
       "            EndOfDayQuote ChangeFromPreviousClose  EndOfDayQuote PercentChangeFromPreviousClose  EndOfDayQuote VWAP  \n",
       "datetime                                                                                                             \n",
       "2016-01-04                                  -20.0                                        -0.722             2778.25  "
      ]
     },
     "execution_count": 8,
     "metadata": {},
     "output_type": "execute_result"
    }
   ],
   "source": [
    "df.loc[:, \"datetime\"] = pd.to_datetime(df.loc[:, \"EndOfDayQuote Date\"])\n",
    "df.set_index(\"datetime\", inplace=True)\n",
    "df.head(1)"
   ]
  },
  {
   "cell_type": "code",
   "execution_count": 9,
   "metadata": {},
   "outputs": [
    {
     "data": {
      "text/plain": [
       "array([[       nan],\n",
       "       [       nan],\n",
       "       [       nan],\n",
       "       [       nan],\n",
       "       [       nan],\n",
       "       [       nan],\n",
       "       [       nan],\n",
       "       [       nan],\n",
       "       [       nan],\n",
       "       [       nan],\n",
       "       [       nan],\n",
       "       [       nan],\n",
       "       [       nan],\n",
       "       [       nan],\n",
       "       [       nan],\n",
       "       [       nan],\n",
       "       [       nan],\n",
       "       [       nan],\n",
       "       [       nan],\n",
       "       [       nan],\n",
       "       [0.01590696]])"
      ]
     },
     "execution_count": 9,
     "metadata": {},
     "output_type": "execute_result"
    }
   ],
   "source": [
    "feats = (\n",
    "    df[[\"EndOfDayQuote ExchangeOfficialClose\", \"Local Code\"]]\n",
    "    .groupby(\"Local Code\")\n",
    "    .pct_change()\n",
    "    .rolling(20)\n",
    "    .std()\n",
    "    .values\n",
    ")\n",
    "feats[:21]\n"
   ]
  },
  {
   "cell_type": "code",
   "execution_count": 10,
   "metadata": {},
   "outputs": [
    {
     "data": {
      "text/html": [
       "<div>\n",
       "<style scoped>\n",
       "    .dataframe tbody tr th:only-of-type {\n",
       "        vertical-align: middle;\n",
       "    }\n",
       "\n",
       "    .dataframe tbody tr th {\n",
       "        vertical-align: top;\n",
       "    }\n",
       "\n",
       "    .dataframe thead th {\n",
       "        text-align: right;\n",
       "    }\n",
       "</style>\n",
       "<table border=\"1\" class=\"dataframe\">\n",
       "  <thead>\n",
       "    <tr style=\"text-align: right;\">\n",
       "      <th>datetime</th>\n",
       "      <th>2016-01-04 00:00:00</th>\n",
       "    </tr>\n",
       "  </thead>\n",
       "  <tbody>\n",
       "    <tr>\n",
       "      <th>Local Code</th>\n",
       "      <td>1301</td>\n",
       "    </tr>\n",
       "    <tr>\n",
       "      <th>EndOfDayQuote Date</th>\n",
       "      <td>2016/01/04</td>\n",
       "    </tr>\n",
       "    <tr>\n",
       "      <th>EndOfDayQuote Open</th>\n",
       "      <td>2800</td>\n",
       "    </tr>\n",
       "    <tr>\n",
       "      <th>EndOfDayQuote High</th>\n",
       "      <td>2820</td>\n",
       "    </tr>\n",
       "    <tr>\n",
       "      <th>EndOfDayQuote Low</th>\n",
       "      <td>2740</td>\n",
       "    </tr>\n",
       "    <tr>\n",
       "      <th>EndOfDayQuote Close</th>\n",
       "      <td>2750</td>\n",
       "    </tr>\n",
       "    <tr>\n",
       "      <th>EndOfDayQuote ExchangeOfficialClose</th>\n",
       "      <td>2750</td>\n",
       "    </tr>\n",
       "    <tr>\n",
       "      <th>EndOfDayQuote Volume</th>\n",
       "      <td>32000</td>\n",
       "    </tr>\n",
       "    <tr>\n",
       "      <th>EndOfDayQuote CumulativeAdjustmentFactor</th>\n",
       "      <td>0.1</td>\n",
       "    </tr>\n",
       "    <tr>\n",
       "      <th>EndOfDayQuote PreviousClose</th>\n",
       "      <td>2770</td>\n",
       "    </tr>\n",
       "    <tr>\n",
       "      <th>EndOfDayQuote PreviousCloseDate</th>\n",
       "      <td>2015/12/30</td>\n",
       "    </tr>\n",
       "    <tr>\n",
       "      <th>EndOfDayQuote PreviousExchangeOfficialClose</th>\n",
       "      <td>2770</td>\n",
       "    </tr>\n",
       "    <tr>\n",
       "      <th>EndOfDayQuote PreviousExchangeOfficialCloseDate</th>\n",
       "      <td>2015/12/30</td>\n",
       "    </tr>\n",
       "    <tr>\n",
       "      <th>EndOfDayQuote ChangeFromPreviousClose</th>\n",
       "      <td>-20</td>\n",
       "    </tr>\n",
       "    <tr>\n",
       "      <th>EndOfDayQuote PercentChangeFromPreviousClose</th>\n",
       "      <td>-0.722</td>\n",
       "    </tr>\n",
       "    <tr>\n",
       "      <th>EndOfDayQuote VWAP</th>\n",
       "      <td>2778.25</td>\n",
       "    </tr>\n",
       "    <tr>\n",
       "      <th>code</th>\n",
       "      <td>2016-01-04-1301</td>\n",
       "    </tr>\n",
       "  </tbody>\n",
       "</table>\n",
       "</div>"
      ],
      "text/plain": [
       "datetime                                              2016-01-04\n",
       "Local Code                                                  1301\n",
       "EndOfDayQuote Date                                    2016/01/04\n",
       "EndOfDayQuote Open                                          2800\n",
       "EndOfDayQuote High                                          2820\n",
       "EndOfDayQuote Low                                           2740\n",
       "EndOfDayQuote Close                                         2750\n",
       "EndOfDayQuote ExchangeOfficialClose                         2750\n",
       "EndOfDayQuote Volume                                       32000\n",
       "EndOfDayQuote CumulativeAdjustmentFactor                     0.1\n",
       "EndOfDayQuote PreviousClose                                 2770\n",
       "EndOfDayQuote PreviousCloseDate                       2015/12/30\n",
       "EndOfDayQuote PreviousExchangeOfficialClose                 2770\n",
       "EndOfDayQuote PreviousExchangeOfficialCloseDate       2015/12/30\n",
       "EndOfDayQuote ChangeFromPreviousClose                        -20\n",
       "EndOfDayQuote PercentChangeFromPreviousClose              -0.722\n",
       "EndOfDayQuote VWAP                                       2778.25\n",
       "code                                             2016-01-04-1301"
      ]
     },
     "execution_count": 10,
     "metadata": {},
     "output_type": "execute_result"
    }
   ],
   "source": [
    "df.loc[:, \"code\"] = df.index.strftime(\"%Y-%m-%d-\") + df.loc[\n",
    "    :, \"Local Code\"\n",
    "].astype(str)\n",
    "df.head(1).T\n"
   ]
  },
  {
   "cell_type": "code",
   "execution_count": 11,
   "metadata": {},
   "outputs": [],
   "source": [
    "df.loc[:, \"label_high_20\"] = feats\n",
    "df.loc[:, \"label_low_20\"] = feats"
   ]
  },
  {
   "cell_type": "code",
   "execution_count": 12,
   "metadata": {},
   "outputs": [],
   "source": [
    "# 出力対象列を設定\n",
    "output_columns = [\"code\", \"label_high_20\", \"label_low_20\"]"
   ]
  },
  {
   "cell_type": "code",
   "execution_count": 14,
   "metadata": {},
   "outputs": [
    {
     "name": "stdout",
     "output_type": "stream",
     "text": [
      "2020-01-06-1301,0.003585883791862692,0.003585883791862692\n",
      "2020-01-07-1301,0.004547330404501981,0.004547330404501981\n",
      "2020-01-08-1301,0.00453195173316532,0.00453195173316532\n",
      "2020-01-09-1301,0.004999748259166511,0.004999748259166511\n",
      "2020-01-10-1301,0.004999647093872243,0.004999647093872243\n",
      "2020-01-14-1301,0.005258378653780425,0.005258378653780425\n",
      "2020-01-15-1301,0.0052927619941197995,0.0052927619941197995\n",
      "2020-01-16-1301,0.005278015255069897,0.005278015255069897\n",
      "2020-01-17-1301,0.005145885202200792,0.005145885202200792\n",
      "2020-01-20-1301,0.0051441150911965775,0.0051441150911965775\n"
     ]
    }
   ],
   "source": [
    "import io\n",
    "out = io.StringIO()\n",
    "df[output_columns].loc[\"2020-01-01\":].dropna().to_csv(out, header=False, index=False)\n",
    "\n",
    "print(\"\\n\".join(out.getvalue().split(\"\\n\")[:10]))"
   ]
  },
  {
   "cell_type": "code",
   "execution_count": null,
   "metadata": {},
   "outputs": [],
   "source": []
  }
 ],
 "metadata": {
  "kernelspec": {
   "display_name": "Python 3",
   "language": "python",
   "name": "python3"
  },
  "language_info": {
   "codemirror_mode": {
    "name": "ipython",
    "version": 3
   },
   "file_extension": ".py",
   "mimetype": "text/x-python",
   "name": "python",
   "nbconvert_exporter": "python",
   "pygments_lexer": "ipython3",
   "version": "3.7.3"
  }
 },
 "nbformat": 4,
 "nbformat_minor": 2
}
