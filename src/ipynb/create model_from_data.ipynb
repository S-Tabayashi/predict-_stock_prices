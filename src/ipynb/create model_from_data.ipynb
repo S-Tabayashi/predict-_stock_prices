{
 "cells": [
  {
   "cell_type": "code",
   "execution_count": 1,
   "metadata": {},
   "outputs": [
    {
     "name": "stdout",
     "output_type": "stream",
     "text": [
      "Ign:1 http://deb.debian.org/debian stretch InRelease\n",
      "Get:2 http://deb.debian.org/debian stretch-updates InRelease [93.6 kB]\n",
      "Get:3 http://security.debian.org/debian-security stretch/updates InRelease [53.0 kB]\n",
      "Hit:4 http://deb.debian.org/debian stretch Release                             \n",
      "Get:6 http://security.debian.org/debian-security stretch/updates/main amd64 Packages [657 kB]\n",
      "Fetched 804 kB in 0s (1194 kB/s) \n",
      "Reading package lists... Done\n",
      "Reading package lists... Done\n",
      "Building dependency tree       \n",
      "Reading state information... Done\n",
      "g++ is already the newest version (4:6.3.0-4).\n",
      "gcc is already the newest version (4:6.3.0-4).\n",
      "0 upgraded, 0 newly installed, 0 to remove and 60 not upgraded.\n",
      "Requirement already satisfied: shap==0.37.0 in /opt/conda/lib/python3.7/site-packages (0.37.0)\n",
      "Requirement already satisfied: slicer==0.0.3 in /opt/conda/lib/python3.7/site-packages (0.0.3)\n",
      "Requirement already satisfied: xgboost==1.3.0.post0 in /opt/conda/lib/python3.7/site-packages (1.3.0.post0)\n",
      "Requirement already satisfied: numpy in /opt/conda/lib/python3.7/site-packages (from shap==0.37.0) (1.16.2)\n",
      "Requirement already satisfied: scipy in /opt/conda/lib/python3.7/site-packages (from shap==0.37.0) (1.2.1)\n",
      "Requirement already satisfied: tqdm>4.25.0 in /opt/conda/lib/python3.7/site-packages (from shap==0.37.0) (4.31.1)\n",
      "Requirement already satisfied: numba in /opt/conda/lib/python3.7/site-packages (from shap==0.37.0) (0.43.1)\n",
      "Requirement already satisfied: scikit-learn in /opt/conda/lib/python3.7/site-packages (from shap==0.37.0) (0.20.3)\n",
      "Requirement already satisfied: pandas in /opt/conda/lib/python3.7/site-packages (from shap==0.37.0) (0.24.2)\n",
      "Requirement already satisfied: llvmlite>=0.28.0dev0 in /opt/conda/lib/python3.7/site-packages (from numba->shap==0.37.0) (0.28.0)\n",
      "Requirement already satisfied: pytz>=2011k in /opt/conda/lib/python3.7/site-packages (from pandas->shap==0.37.0) (2018.9)\n",
      "Requirement already satisfied: python-dateutil>=2.5.0 in /opt/conda/lib/python3.7/site-packages (from pandas->shap==0.37.0) (2.8.0)\n",
      "Requirement already satisfied: six>=1.5 in /opt/conda/lib/python3.7/site-packages (from python-dateutil>=2.5.0->pandas->shap==0.37.0) (1.12.0)\n"
     ]
    }
   ],
   "source": [
    "# shap用にg++とgccをインストールします\n",
    "! apt-get update\n",
    "! apt-get install -y --no-install-recommends g++ gcc\n",
    "\n",
    "# 必要なライブラリをインストールします\n",
    "! pip install shap==0.37.0 slicer==0.0.3 xgboost==1.3.0.post0"
   ]
  },
  {
   "cell_type": "code",
   "execution_count": 1,
   "metadata": {},
   "outputs": [
    {
     "name": "stdout",
     "output_type": "stream",
     "text": [
      "Collecting catboost==0.24.4\n",
      "\u001b[?25l  Downloading https://files.pythonhosted.org/packages/96/3b/bb419654adcf7efff42ed8a3f84e50c8f236424b7ed1cc8ccd290852e003/catboost-0.24.4-cp37-none-manylinux1_x86_64.whl (65.7MB)\n",
      "\u001b[K    100% |████████████████████████████████| 65.7MB 225kB/s ta 0:00:011 4% |█▌                              | 3.1MB 1.3MB/s eta 0:00:50    60% |███████████████████▌            | 40.0MB 12.5MB/s eta 0:00:03    84% |███████████████████████████     | 55.6MB 13.5MB/s eta 0:00:01    90% |████████████████████████████▉   | 59.2MB 9.6MB/s eta 0:00:01\n",
      "\u001b[?25hRequirement already satisfied: pandas>=0.24.0 in /opt/conda/lib/python3.7/site-packages (from catboost==0.24.4) (0.24.2)\n",
      "Requirement already satisfied: matplotlib in /opt/conda/lib/python3.7/site-packages (from catboost==0.24.4) (3.0.3)\n",
      "Requirement already satisfied: six in /opt/conda/lib/python3.7/site-packages (from catboost==0.24.4) (1.12.0)\n",
      "Requirement already satisfied: scipy in /opt/conda/lib/python3.7/site-packages (from catboost==0.24.4) (1.2.1)\n",
      "Requirement already satisfied: numpy>=1.16.0 in /opt/conda/lib/python3.7/site-packages (from catboost==0.24.4) (1.16.2)\n",
      "Collecting graphviz (from catboost==0.24.4)\n",
      "  Downloading https://files.pythonhosted.org/packages/86/86/89ba50ba65928001d3161f23bfa03945ed18ea13a1d1d44a772ff1fa4e7a/graphviz-0.16-py2.py3-none-any.whl\n",
      "Collecting plotly (from catboost==0.24.4)\n",
      "\u001b[?25l  Downloading https://files.pythonhosted.org/packages/1f/f6/bd3c17c8003b6641df1228e80e1acac97ed8402635e46c2571f8e1ef63af/plotly-4.14.3-py2.py3-none-any.whl (13.2MB)\n",
      "\u001b[K    100% |████████████████████████████████| 13.2MB 3.0MB/s eta 0:00:01\n",
      "\u001b[?25hRequirement already satisfied: pytz>=2011k in /opt/conda/lib/python3.7/site-packages (from pandas>=0.24.0->catboost==0.24.4) (2018.9)\n",
      "Requirement already satisfied: python-dateutil>=2.5.0 in /opt/conda/lib/python3.7/site-packages (from pandas>=0.24.0->catboost==0.24.4) (2.8.0)\n",
      "Requirement already satisfied: cycler>=0.10 in /opt/conda/lib/python3.7/site-packages (from matplotlib->catboost==0.24.4) (0.10.0)\n",
      "Requirement already satisfied: kiwisolver>=1.0.1 in /opt/conda/lib/python3.7/site-packages (from matplotlib->catboost==0.24.4) (1.0.1)\n",
      "Requirement already satisfied: pyparsing!=2.0.4,!=2.1.2,!=2.1.6,>=2.0.1 in /opt/conda/lib/python3.7/site-packages (from matplotlib->catboost==0.24.4) (2.3.1)\n",
      "Collecting retrying>=1.3.3 (from plotly->catboost==0.24.4)\n",
      "  Downloading https://files.pythonhosted.org/packages/44/ef/beae4b4ef80902f22e3af073397f079c96969c69b2c7d52a57ea9ae61c9d/retrying-1.3.3.tar.gz\n",
      "Requirement already satisfied: setuptools in /opt/conda/lib/python3.7/site-packages (from kiwisolver>=1.0.1->matplotlib->catboost==0.24.4) (40.8.0)\n",
      "Building wheels for collected packages: retrying\n",
      "  Building wheel for retrying (setup.py) ... \u001b[?25ldone\n",
      "\u001b[?25h  Stored in directory: /root/.cache/pip/wheels/d7/a9/33/acc7b709e2a35caa7d4cae442f6fe6fbf2c43f80823d46460c\n",
      "Successfully built retrying\n",
      "Installing collected packages: graphviz, retrying, plotly, catboost\n",
      "Successfully installed catboost-0.24.4 graphviz-0.16 plotly-4.14.3 retrying-1.3.3\n"
     ]
    }
   ],
   "source": [
    "!pip install catboost==0.24.4"
   ]
  },
  {
   "cell_type": "code",
   "execution_count": 2,
   "metadata": {},
   "outputs": [
    {
     "name": "stdout",
     "output_type": "stream",
     "text": [
      "Collecting keras\n",
      "  Downloading https://files.pythonhosted.org/packages/44/e1/dc0757b20b56c980b5553c1b5c4c32d378c7055ab7bfa92006801ad359ab/Keras-2.4.3-py2.py3-none-any.whl\n",
      "Requirement already satisfied: pyyaml in /opt/conda/lib/python3.7/site-packages (from keras) (5.1)\n",
      "Requirement already satisfied: h5py in /opt/conda/lib/python3.7/site-packages (from keras) (2.9.0)\n",
      "Requirement already satisfied: numpy>=1.9.1 in /opt/conda/lib/python3.7/site-packages (from keras) (1.16.2)\n",
      "Requirement already satisfied: scipy>=0.14 in /opt/conda/lib/python3.7/site-packages (from keras) (1.2.1)\n",
      "Requirement already satisfied: six in /opt/conda/lib/python3.7/site-packages (from h5py->keras) (1.12.0)\n",
      "Installing collected packages: keras\n",
      "Successfully installed keras-2.4.3\n",
      "Collecting tensorflow\n",
      "\u001b[?25l  Downloading https://files.pythonhosted.org/packages/70/dc/e8c5e7983866fa4ef3fd619faa35f660b95b01a2ab62b3884f038ccab542/tensorflow-2.4.1-cp37-cp37m-manylinux2010_x86_64.whl (394.3MB)\n",
      "\u001b[K    100% |████████████████████████████████| 394.3MB 24kB/s  eta 0:00:01-1 day, 23:59:33                     | 3.3MB 3.5MB/s eta 0:01:53    1% |▍                               | 5.1MB 3.4MB/s eta 0:01:55    1% |▌                               | 6.7MB 4.8MB/s eta 0:01:214% |█▌                              | 17.9MB 7.6MB/s eta 0:00:50    4% |█▌                              | 19.1MB 8.9MB/s eta 0:00:43    5% |█▊                              | 21.8MB 10.9MB/s eta 0:00:35    7% |██▍                             | 29.1MB 4.7MB/s eta 0:01:19    9% |███▏                            | 38.3MB 6.9MB/s eta 0:00:52    12% |████                            | 48.6MB 2.0MB/s eta 0:02:57    12% |████                            | 49.0MB 3.1MB/s eta 0:01:53    12% |████                            | 50.5MB 5.7MB/s eta 0:01:01    14% |████▋                           | 56.6MB 8.1MB/s eta 0:00:42    14% |████▊                           | 58.3MB 13.4MB/s eta 0:00:26    16% |█████▍                          | 65.8MB 19.0MB/s eta 0:00:18    18% |█████▉                          | 72.2MB 5.7MB/s eta 0:00:57    22% |███████                         | 86.9MB 4.5MB/s eta 0:01:09    22% |███████                         | 87.2MB 4.7MB/s eta 0:01:06    22% |███████▏                        | 88.1MB 5.8MB/s eta 0:00:53    22% |███████▏                        | 88.5MB 9.2MB/s eta 0:00:34    22% |███████▎                        | 89.3MB 11.2MB/s eta 0:00:28    25% |████████                        | 99.1MB 7.4MB/s eta 0:00:41   30% |█████████▋                      | 118.7MB 47.1MB/s eta 0:00:06    32% |██████████▎                     | 126.4MB 3.9MB/s eta 0:01:10    33% |██████████▋                     | 130.3MB 3.8MB/s eta 0:01:10             | 137.0MB 10.3MB/s eta 0:00:25    35% |███████████▎                    | 138.7MB 3.1MB/s eta 0:01:24    44% |██████████████▏                 | 174.7MB 3.1MB/s eta 0:01:12    44% |██████████████▍                 | 177.0MB 3.3MB/s eta 0:01:06    50% |████████████████▏               | 198.6MB 11.1MB/s eta 0:00:18    51% |████████████████▍               | 201.7MB 2.5MB/s eta 0:01:18██▍               | 202.0MB 11.5MB/s eta 0:00:17    51% |████████████████▌               | 203.0MB 2.4MB/s eta 0:01:21    53% |█████████████████▏              | 211.3MB 9.7MB/s eta 0:00:19    59% |███████████████████             | 234.4MB 7.0MB/s eta 0:00:23█████▏            | 235.8MB 12.7MB/s eta 0:00:13    67% |█████████████████████▌          | 265.1MB 5.3MB/s eta 0:00:25    69% |██████████████████████▏         | 272.8MB 15.5MB/s eta 0:00:08█████▍         | 276.1MB 24.8MB/s eta 0:00:05�████████████████████▋         | 278.0MB 5.1MB/s eta 0:00:23    70% |██████████████████████▋         | 279.2MB 10.8MB/s eta 0:00:11    74% |███████████████████████▉        | 294.2MB 3.6MB/s eta 0:00:29    74% |████████████████████████        | 294.5MB 3.2MB/s eta 0:00:31    79% |█████████████████████████▍      | 313.1MB 6.6MB/s eta 0:00:13    83% |██████████████████████████▊     | 329.9MB 18.7MB/s eta 0:00:04B 9.8MB/s eta 0:00:04\n",
      "\u001b[?25hCollecting tensorboard~=2.4 (from tensorflow)\n",
      "\u001b[?25l  Downloading https://files.pythonhosted.org/packages/64/21/eebd23060763fedeefb78bc2b286e00fa1d8abda6f70efa2ee08c28af0d4/tensorboard-2.4.1-py3-none-any.whl (10.6MB)\n",
      "\u001b[K    100% |████████████████████████████████| 10.6MB 3.2MB/s eta 0:00:01          | 2.7MB 2.2MB/s eta 0:00:04\n",
      "\u001b[?25hCollecting gast==0.3.3 (from tensorflow)\n",
      "  Downloading https://files.pythonhosted.org/packages/d6/84/759f5dd23fec8ba71952d97bcc7e2c9d7d63bdc582421f3cd4be845f0c98/gast-0.3.3-py2.py3-none-any.whl\n",
      "Collecting absl-py~=0.10 (from tensorflow)\n",
      "\u001b[?25l  Downloading https://files.pythonhosted.org/packages/92/c9/ef0fae29182d7a867d203f0eff8296b60da92098cc41db33a434f4be84bf/absl_py-0.12.0-py3-none-any.whl (129kB)\n",
      "\u001b[K    100% |████████████████████████████████| 133kB 6.3MB/s ta 0:00:01\n",
      "\u001b[?25hCollecting wheel~=0.35 (from tensorflow)\n",
      "  Downloading https://files.pythonhosted.org/packages/65/63/39d04c74222770ed1589c0eaba06c05891801219272420b40311cd60c880/wheel-0.36.2-py2.py3-none-any.whl\n",
      "Collecting tensorflow-estimator<2.5.0,>=2.4.0 (from tensorflow)\n",
      "\u001b[?25l  Downloading https://files.pythonhosted.org/packages/74/7e/622d9849abf3afb81e482ffc170758742e392ee129ce1540611199a59237/tensorflow_estimator-2.4.0-py2.py3-none-any.whl (462kB)\n",
      "\u001b[K    100% |████████████████████████████████| 471kB 27.0MB/s ta 0:00:01\n",
      "\u001b[?25hCollecting astunparse~=1.6.3 (from tensorflow)\n",
      "  Downloading https://files.pythonhosted.org/packages/2b/03/13dde6512ad7b4557eb792fbcf0c653af6076b81e5941d36ec61f7ce6028/astunparse-1.6.3-py2.py3-none-any.whl\n",
      "Collecting wrapt~=1.12.1 (from tensorflow)\n",
      "  Downloading https://files.pythonhosted.org/packages/82/f7/e43cefbe88c5fd371f4cf0cf5eb3feccd07515af9fd6cf7dbf1d1793a797/wrapt-1.12.1.tar.gz\n",
      "Collecting keras-preprocessing~=1.1.2 (from tensorflow)\n",
      "\u001b[?25l  Downloading https://files.pythonhosted.org/packages/79/4c/7c3275a01e12ef9368a892926ab932b33bb13d55794881e3573482b378a7/Keras_Preprocessing-1.1.2-py2.py3-none-any.whl (42kB)\n",
      "\u001b[K    100% |████████████████████████████████| 51kB 9.8MB/s eta 0:00:01\n",
      "\u001b[?25hCollecting numpy~=1.19.2 (from tensorflow)\n",
      "\u001b[?25l  Downloading https://files.pythonhosted.org/packages/08/d6/a6aaa29fea945bc6c61d11f6e0697b325ff7446de5ffd62c2fa02f627048/numpy-1.19.5-cp37-cp37m-manylinux2010_x86_64.whl (14.8MB)\n",
      "\u001b[K    100% |████████████████████████████████| 14.8MB 2.4MB/s ta 0:00:011\n",
      "\u001b[?25hCollecting protobuf>=3.9.2 (from tensorflow)\n",
      "\u001b[?25l  Downloading https://files.pythonhosted.org/packages/7d/cc/abf8e30629db7a8b15efb79d4c87e235895d2c636ce7a4ac625cfc816f07/protobuf-3.15.6-cp37-cp37m-manylinux1_x86_64.whl (1.0MB)\n",
      "\u001b[K    100% |████████████████████████████████| 1.0MB 4.8MB/s ta 0:00:011\n",
      "\u001b[?25hCollecting termcolor~=1.1.0 (from tensorflow)\n",
      "  Downloading https://files.pythonhosted.org/packages/8a/48/a76be51647d0eb9f10e2a4511bf3ffb8cc1e6b14e9e4fab46173aa79f981/termcolor-1.1.0.tar.gz\n",
      "Collecting flatbuffers~=1.12.0 (from tensorflow)\n",
      "  Downloading https://files.pythonhosted.org/packages/eb/26/712e578c5f14e26ae3314c39a1bdc4eb2ec2f4ddc89b708cf8e0a0d20423/flatbuffers-1.12-py2.py3-none-any.whl\n",
      "Collecting six~=1.15.0 (from tensorflow)\n",
      "  Downloading https://files.pythonhosted.org/packages/ee/ff/48bde5c0f013094d729fe4b0316ba2a24774b3ff1c52d924a8a4cb04078a/six-1.15.0-py2.py3-none-any.whl\n",
      "Collecting typing-extensions~=3.7.4 (from tensorflow)\n",
      "  Downloading https://files.pythonhosted.org/packages/60/7a/e881b5abb54db0e6e671ab088d079c57ce54e8a01a3ca443f561ccadb37e/typing_extensions-3.7.4.3-py3-none-any.whl\n",
      "Collecting h5py~=2.10.0 (from tensorflow)\n",
      "\u001b[?25l  Downloading https://files.pythonhosted.org/packages/3f/c0/abde58b837e066bca19a3f7332d9d0493521d7dd6b48248451a9e3fe2214/h5py-2.10.0-cp37-cp37m-manylinux1_x86_64.whl (2.9MB)\n",
      "\u001b[K    100% |████████████████████████████████| 2.9MB 6.2MB/s eta 0:00:01\n",
      "\u001b[?25hCollecting grpcio~=1.32.0 (from tensorflow)\n",
      "\u001b[?25l  Downloading https://files.pythonhosted.org/packages/99/da/8dc10aab771e01937aaf10cd28d1fcf861bca48c570ee6a5cee00f7be111/grpcio-1.32.0-cp37-cp37m-manylinux2010_x86_64.whl (3.7MB)\n",
      "\u001b[K    100% |████████████████████████████████| 3.7MB 6.0MB/s eta 0:00:01\n",
      "\u001b[?25hCollecting google-pasta~=0.2 (from tensorflow)\n",
      "\u001b[?25l  Downloading https://files.pythonhosted.org/packages/a3/de/c648ef6835192e6e2cc03f40b19eeda4382c49b5bafb43d88b931c4c74ac/google_pasta-0.2.0-py3-none-any.whl (57kB)\n",
      "\u001b[K    100% |████████████████████████████████| 61kB 13.6MB/s ta 0:00:01\n"
     ]
    },
    {
     "name": "stdout",
     "output_type": "stream",
     "text": [
      "\u001b[?25hCollecting opt-einsum~=3.3.0 (from tensorflow)\n",
      "\u001b[?25l  Downloading https://files.pythonhosted.org/packages/bc/19/404708a7e54ad2798907210462fd950c3442ea51acc8790f3da48d2bee8b/opt_einsum-3.3.0-py3-none-any.whl (65kB)\n",
      "\u001b[K    100% |████████████████████████████████| 71kB 5.3MB/s ta 0:00:01\n",
      "\u001b[?25hCollecting google-auth<2,>=1.6.3 (from tensorboard~=2.4->tensorflow)\n",
      "\u001b[?25l  Downloading https://files.pythonhosted.org/packages/b5/ef/13d3b65c41ddde1a57e89de6adfc610093d109ebd472545a33e76dcdd8bf/google_auth-1.28.0-py2.py3-none-any.whl (136kB)\n",
      "\u001b[K    100% |████████████████████████████████| 143kB 10.1MB/s a 0:00:01\n",
      "\u001b[?25hCollecting setuptools>=41.0.0 (from tensorboard~=2.4->tensorflow)\n",
      "\u001b[?25l  Downloading https://files.pythonhosted.org/packages/9e/d4/b99a960314121a003e9f39c61dfde01a1010bb47661e193a7722f7f32d52/setuptools-54.2.0-py3-none-any.whl (785kB)\n",
      "\u001b[K    100% |████████████████████████████████| 788kB 6.9MB/s ta 0:00:011\n",
      "\u001b[?25hRequirement already satisfied: werkzeug>=0.11.15 in /opt/conda/lib/python3.7/site-packages (from tensorboard~=2.4->tensorflow) (0.14.1)\n",
      "Collecting markdown>=2.6.8 (from tensorboard~=2.4->tensorflow)\n",
      "\u001b[?25l  Downloading https://files.pythonhosted.org/packages/6e/33/1ae0f71395e618d6140fbbc9587cc3156591f748226075e0f7d6f9176522/Markdown-3.3.4-py3-none-any.whl (97kB)\n",
      "\u001b[K    100% |████████████████████████████████| 102kB 8.1MB/s a 0:00:01\n",
      "\u001b[?25hRequirement already satisfied: requests<3,>=2.21.0 in /opt/conda/lib/python3.7/site-packages (from tensorboard~=2.4->tensorflow) (2.21.0)\n",
      "Collecting tensorboard-plugin-wit>=1.6.0 (from tensorboard~=2.4->tensorflow)\n",
      "\u001b[?25l  Downloading https://files.pythonhosted.org/packages/1a/c1/499e600ba0c618b451cd9c425ae1c177249940a2086316552fee7d86c954/tensorboard_plugin_wit-1.8.0-py3-none-any.whl (781kB)\n",
      "\u001b[K    100% |████████████████████████████████| 788kB 7.5MB/s ta 0:00:011\n",
      "\u001b[?25hCollecting google-auth-oauthlib<0.5,>=0.4.1 (from tensorboard~=2.4->tensorflow)\n",
      "  Downloading https://files.pythonhosted.org/packages/cb/f5/6e656a95ca0b432c5f090239962f618c3b45447037d21e1c049123521f53/google_auth_oauthlib-0.4.3-py2.py3-none-any.whl\n",
      "Collecting pyasn1-modules>=0.2.1 (from google-auth<2,>=1.6.3->tensorboard~=2.4->tensorflow)\n",
      "\u001b[?25l  Downloading https://files.pythonhosted.org/packages/95/de/214830a981892a3e286c3794f41ae67a4495df1108c3da8a9f62159b9a9d/pyasn1_modules-0.2.8-py2.py3-none-any.whl (155kB)\n",
      "\u001b[K    100% |████████████████████████████████| 163kB 16.2MB/s ta 0:00:01\n",
      "\u001b[?25hCollecting rsa<5,>=3.1.4; python_version >= \"3.6\" (from google-auth<2,>=1.6.3->tensorboard~=2.4->tensorflow)\n",
      "  Downloading https://files.pythonhosted.org/packages/e9/93/0c0f002031f18b53af7a6166103c02b9c0667be528944137cc954ec921b3/rsa-4.7.2-py3-none-any.whl\n",
      "Collecting cachetools<5.0,>=2.0.0 (from google-auth<2,>=1.6.3->tensorboard~=2.4->tensorflow)\n",
      "  Downloading https://files.pythonhosted.org/packages/bb/72/8df2e0dc991f1a1d2c6869404e7622e8ee50d80bff357dbb57c3df70305b/cachetools-4.2.1-py3-none-any.whl\n",
      "Requirement already satisfied: importlib-metadata; python_version < \"3.8\" in /opt/conda/lib/python3.7/site-packages (from markdown>=2.6.8->tensorboard~=2.4->tensorflow) (0.0.0)\n",
      "Requirement already satisfied: chardet<3.1.0,>=3.0.2 in /opt/conda/lib/python3.7/site-packages (from requests<3,>=2.21.0->tensorboard~=2.4->tensorflow) (3.0.4)\n",
      "Requirement already satisfied: idna<2.9,>=2.5 in /opt/conda/lib/python3.7/site-packages (from requests<3,>=2.21.0->tensorboard~=2.4->tensorflow) (2.8)\n",
      "Requirement already satisfied: certifi>=2017.4.17 in /opt/conda/lib/python3.7/site-packages (from requests<3,>=2.21.0->tensorboard~=2.4->tensorflow) (2019.3.9)\n",
      "Requirement already satisfied: urllib3<1.25,>=1.21.1 in /opt/conda/lib/python3.7/site-packages (from requests<3,>=2.21.0->tensorboard~=2.4->tensorflow) (1.24.1)\n",
      "Collecting requests-oauthlib>=0.7.0 (from google-auth-oauthlib<0.5,>=0.4.1->tensorboard~=2.4->tensorflow)\n",
      "  Downloading https://files.pythonhosted.org/packages/a3/12/b92740d845ab62ea4edf04d2f4164d82532b5a0b03836d4d4e71c6f3d379/requests_oauthlib-1.3.0-py2.py3-none-any.whl\n",
      "Collecting pyasn1<0.5.0,>=0.4.6 (from pyasn1-modules>=0.2.1->google-auth<2,>=1.6.3->tensorboard~=2.4->tensorflow)\n",
      "\u001b[?25l  Downloading https://files.pythonhosted.org/packages/62/1e/a94a8d635fa3ce4cfc7f506003548d0a2447ae76fd5ca53932970fe3053f/pyasn1-0.4.8-py2.py3-none-any.whl (77kB)\n",
      "\u001b[K    100% |████████████████████████████████| 81kB 5.1MB/s ta 0:00:01\n",
      "\u001b[?25hRequirement already satisfied: zipp>=0.3.2 in /opt/conda/lib/python3.7/site-packages (from importlib-metadata; python_version < \"3.8\"->markdown>=2.6.8->tensorboard~=2.4->tensorflow) (0.3.3)\n",
      "Collecting oauthlib>=3.0.0 (from requests-oauthlib>=0.7.0->google-auth-oauthlib<0.5,>=0.4.1->tensorboard~=2.4->tensorflow)\n",
      "\u001b[?25l  Downloading https://files.pythonhosted.org/packages/05/57/ce2e7a8fa7c0afb54a0581b14a65b56e62b5759dbc98e80627142b8a3704/oauthlib-3.1.0-py2.py3-none-any.whl (147kB)\n",
      "\u001b[K    100% |████████████████████████████████| 153kB 20.1MB/s ta 0:00:01\n",
      "\u001b[?25hBuilding wheels for collected packages: wrapt, termcolor\n",
      "  Building wheel for wrapt (setup.py) ... \u001b[?25ldone\n",
      "\u001b[?25h  Stored in directory: /root/.cache/pip/wheels/b1/c2/ed/d62208260edbd3fa7156545c00ef966f45f2063d0a84f8208a\n",
      "  Building wheel for termcolor (setup.py) ... \u001b[?25ldone\n",
      "\u001b[?25h  Stored in directory: /root/.cache/pip/wheels/7c/06/54/bc84598ba1daf8f970247f550b175aaaee85f68b4b0c5ab2c6\n",
      "Successfully built wrapt termcolor\n",
      "\u001b[31mtables 3.5.1 requires mock>=2.0, which is not installed.\u001b[0m\n",
      "\u001b[31mastroid 2.2.5 requires typed-ast>=1.3.0; implementation_name == \"cpython\", which is not installed.\u001b[0m\n",
      "Installing collected packages: setuptools, pyasn1, pyasn1-modules, six, rsa, cachetools, google-auth, grpcio, markdown, wheel, numpy, absl-py, tensorboard-plugin-wit, oauthlib, requests-oauthlib, google-auth-oauthlib, protobuf, tensorboard, gast, tensorflow-estimator, astunparse, wrapt, keras-preprocessing, termcolor, flatbuffers, typing-extensions, h5py, google-pasta, opt-einsum, tensorflow\n",
      "  Found existing installation: setuptools 40.8.0\n",
      "    Uninstalling setuptools-40.8.0:\n",
      "      Successfully uninstalled setuptools-40.8.0\n",
      "  Found existing installation: six 1.12.0\n",
      "    Uninstalling six-1.12.0:\n",
      "      Successfully uninstalled six-1.12.0\n",
      "  Found existing installation: wheel 0.33.1\n",
      "    Uninstalling wheel-0.33.1:\n",
      "      Successfully uninstalled wheel-0.33.1\n",
      "  Found existing installation: numpy 1.16.2\n",
      "    Uninstalling numpy-1.16.2:\n",
      "      Successfully uninstalled numpy-1.16.2\n",
      "  Found existing installation: wrapt 1.11.1\n",
      "    Uninstalling wrapt-1.11.1:\n",
      "      Successfully uninstalled wrapt-1.11.1\n",
      "  Found existing installation: h5py 2.9.0\n",
      "    Uninstalling h5py-2.9.0:\n",
      "      Successfully uninstalled h5py-2.9.0\n",
      "Successfully installed absl-py-0.12.0 astunparse-1.6.3 cachetools-4.2.1 flatbuffers-1.12 gast-0.3.3 google-auth-1.28.0 google-auth-oauthlib-0.4.3 google-pasta-0.2.0 grpcio-1.32.0 h5py-2.10.0 keras-preprocessing-1.1.2 markdown-3.3.4 numpy-1.19.5 oauthlib-3.1.0 opt-einsum-3.3.0 protobuf-3.15.6 pyasn1-0.4.8 pyasn1-modules-0.2.8 requests-oauthlib-1.3.0 rsa-4.7.2 setuptools-54.2.0 six-1.15.0 tensorboard-2.4.1 tensorboard-plugin-wit-1.8.0 tensorflow-2.4.1 tensorflow-estimator-2.4.0 termcolor-1.1.0 typing-extensions-3.7.4.3 wheel-0.36.2 wrapt-1.12.1\n"
     ]
    }
   ],
   "source": [
    "!pip install keras\n",
    "!pip install tensorflow"
   ]
  },
  {
   "cell_type": "code",
   "execution_count": 3,
   "metadata": {},
   "outputs": [
    {
     "name": "stdout",
     "output_type": "stream",
     "text": [
      "Collecting lightgbm\n",
      "\u001b[?25l  Downloading https://files.pythonhosted.org/packages/6e/1f/b2263713cd0a894ce5e856699bbc3e7e7efc97a300d51b7c787878cc8831/lightgbm-3.2.0-py3-none-manylinux1_x86_64.whl (2.0MB)\n",
      "\u001b[K    100% |████████████████████████████████| 2.0MB 5.2MB/s eta 0:00:01\n",
      "\u001b[?25hRequirement already satisfied: numpy in /opt/conda/lib/python3.7/site-packages (from lightgbm) (1.19.5)\n",
      "Requirement already satisfied: wheel in /opt/conda/lib/python3.7/site-packages (from lightgbm) (0.36.2)\n",
      "Requirement already satisfied: scikit-learn!=0.22.0 in /opt/conda/lib/python3.7/site-packages (from lightgbm) (0.20.3)\n",
      "Requirement already satisfied: scipy in /opt/conda/lib/python3.7/site-packages (from lightgbm) (1.2.1)\n",
      "Installing collected packages: lightgbm\n",
      "Successfully installed lightgbm-3.2.0\n",
      "Requirement already satisfied: catboost in /opt/conda/lib/python3.7/site-packages (0.24.4)\n",
      "Requirement already satisfied: graphviz in /opt/conda/lib/python3.7/site-packages (from catboost) (0.16)\n",
      "Requirement already satisfied: six in /opt/conda/lib/python3.7/site-packages (from catboost) (1.15.0)\n",
      "Requirement already satisfied: scipy in /opt/conda/lib/python3.7/site-packages (from catboost) (1.2.1)\n",
      "Requirement already satisfied: pandas>=0.24.0 in /opt/conda/lib/python3.7/site-packages (from catboost) (0.24.2)\n",
      "Requirement already satisfied: plotly in /opt/conda/lib/python3.7/site-packages (from catboost) (4.14.3)\n",
      "Requirement already satisfied: matplotlib in /opt/conda/lib/python3.7/site-packages (from catboost) (3.0.3)\n",
      "Requirement already satisfied: numpy>=1.16.0 in /opt/conda/lib/python3.7/site-packages (from catboost) (1.19.5)\n",
      "Requirement already satisfied: pytz>=2011k in /opt/conda/lib/python3.7/site-packages (from pandas>=0.24.0->catboost) (2018.9)\n",
      "Requirement already satisfied: python-dateutil>=2.5.0 in /opt/conda/lib/python3.7/site-packages (from pandas>=0.24.0->catboost) (2.8.0)\n",
      "Requirement already satisfied: retrying>=1.3.3 in /opt/conda/lib/python3.7/site-packages (from plotly->catboost) (1.3.3)\n",
      "Requirement already satisfied: cycler>=0.10 in /opt/conda/lib/python3.7/site-packages (from matplotlib->catboost) (0.10.0)\n",
      "Requirement already satisfied: kiwisolver>=1.0.1 in /opt/conda/lib/python3.7/site-packages (from matplotlib->catboost) (1.0.1)\n",
      "Requirement already satisfied: pyparsing!=2.0.4,!=2.1.2,!=2.1.6,>=2.0.1 in /opt/conda/lib/python3.7/site-packages (from matplotlib->catboost) (2.3.1)\n",
      "Requirement already satisfied: setuptools in /opt/conda/lib/python3.7/site-packages (from kiwisolver>=1.0.1->matplotlib->catboost) (54.2.0)\n"
     ]
    }
   ],
   "source": [
    "!pip install lightgbm\n",
    "!pip install catboost"
   ]
  },
  {
   "cell_type": "code",
   "execution_count": null,
   "metadata": {
    "scrolled": true
   },
   "outputs": [
    {
     "name": "stderr",
     "output_type": "stream",
     "text": [
      "/opt/conda/lib/python3.7/site-packages/distributed/config.py:20: YAMLLoadWarning: calling yaml.load() without Loader=... is deprecated, as the default Loader is unsafe. Please read https://msg.pyyaml.org/load for full details.\n",
      "  defaults = yaml.load(f)\n"
     ]
    }
   ],
   "source": [
    "from predictor_create_model import ScoringService as cls"
   ]
  },
  {
   "cell_type": "code",
   "execution_count": null,
   "metadata": {},
   "outputs": [],
   "source": [
    "# データセットをダウンロードして解凍したファイルを配置した場所を定義します。\n",
    "# データ保存先ディレクトリ\n",
    "DATASET_DIR= \"/path/to\""
   ]
  },
  {
   "cell_type": "code",
   "execution_count": null,
   "metadata": {},
   "outputs": [],
   "source": [
    "# 読み込むファイルを定義します。\n",
    "inputs = cls.get_inputs(DATASET_DIR)"
   ]
  },
  {
   "cell_type": "code",
   "execution_count": null,
   "metadata": {},
   "outputs": [],
   "source": [
    "inputs"
   ]
  },
  {
   "cell_type": "code",
   "execution_count": null,
   "metadata": {},
   "outputs": [],
   "source": [
    "#from models import ModelETR as cls_etr"
   ]
  },
  {
   "cell_type": "code",
   "execution_count": 7,
   "metadata": {},
   "outputs": [],
   "source": [
    "#label = 'label_high_20'"
   ]
  },
  {
   "cell_type": "code",
   "execution_count": 8,
   "metadata": {},
   "outputs": [],
   "source": [
    "# import os\n",
    "# import pickle\n",
    "# train_X_path = os.path.join(os.path.dirname(\"__file__\"), \"../../../proceed_datas/train_X\")\n",
    "# data_X = os.path.join(train_X_path, f\"train_X_{label}.pkl\")\n",
    "# with open(data_X, \"rb\") as f:\n",
    "#         train_X = pickle.load(f)"
   ]
  },
  {
   "cell_type": "code",
   "execution_count": 9,
   "metadata": {},
   "outputs": [],
   "source": [
    "# train_y_path = os.path.join(os.path.dirname(\"__file__\"), \"../../../proceed_datas/train_y\")\n",
    "# data_y = os.path.join(train_y_path, f\"train_y_{label}.pkl\")\n",
    "# with open(data_y, \"rb\") as f:\n",
    "#         train_y = pickle.load(f)"
   ]
  },
  {
   "cell_type": "code",
   "execution_count": 10,
   "metadata": {},
   "outputs": [],
   "source": [
    "# feature_columns = cls.FEATURES"
   ]
  },
  {
   "cell_type": "code",
   "execution_count": 11,
   "metadata": {},
   "outputs": [],
   "source": [
    "# models = {}"
   ]
  },
  {
   "cell_type": "code",
   "execution_count": 12,
   "metadata": {},
   "outputs": [],
   "source": [
    "# models[label] = ExtraTreesRegressor(max_depth=5,\n",
    "#                                                 min_samples_leaf=1,\n",
    "#                                                 min_samples_split=2,\n",
    "#                                                 min_weight_fraction_leaf=0.1,\n",
    "#                                                 n_estimators=700,\n",
    "#                                                 random_state=0)"
   ]
  },
  {
   "cell_type": "code",
   "execution_count": 13,
   "metadata": {},
   "outputs": [],
   "source": [
    "#model = cls_etr.create_model(train_X[feature_columns], train_y, label)"
   ]
  },
  {
   "cell_type": "code",
   "execution_count": null,
   "metadata": {
    "scrolled": false
   },
   "outputs": [
    {
     "name": "stdout",
     "output_type": "stream",
     "text": [
      "label_high_20\n",
      "ExtraTreesRegressor\n",
      "NeuralNet\n",
      "WARNING:tensorflow:`epsilon` argument is deprecated and will be removed, use `min_delta` instead.\n",
      "Epoch 1/80\n",
      "993/993 [==============================] - 18s 15ms/step - loss: 0.2814 - mse: 0.2814 - val_loss: 0.0207 - val_mse: 0.0207\n",
      "Epoch 2/80\n",
      "993/993 [==============================] - 14s 14ms/step - loss: 0.0454 - mse: 0.0454 - val_loss: 0.0200 - val_mse: 0.0200\n",
      "Epoch 3/80\n",
      "993/993 [==============================] - 13s 13ms/step - loss: 0.0374 - mse: 0.0374 - val_loss: 0.0199 - val_mse: 0.0199\n",
      "Epoch 4/80\n",
      "993/993 [==============================] - 13s 13ms/step - loss: 0.0336 - mse: 0.0336 - val_loss: 0.0194 - val_mse: 0.0194\n",
      "Epoch 5/80\n",
      "993/993 [==============================] - 13s 13ms/step - loss: 0.0312 - mse: 0.0312 - val_loss: 0.0199 - val_mse: 0.0199\n",
      "Epoch 6/80\n",
      "993/993 [==============================] - 13s 13ms/step - loss: 0.0281 - mse: 0.0281 - val_loss: 0.0201 - val_mse: 0.0201\n",
      "Epoch 7/80\n",
      "993/993 [==============================] - 13s 13ms/step - loss: 0.0318 - mse: 0.0318 - val_loss: 0.0201 - val_mse: 0.0201\n",
      "Epoch 8/80\n",
      "993/993 [==============================] - 14s 14ms/step - loss: 0.0293 - mse: 0.0293 - val_loss: 0.0197 - val_mse: 0.0197\n",
      "Epoch 9/80\n",
      "993/993 [==============================] - 13s 13ms/step - loss: 0.0316 - mse: 0.0316 - val_loss: 0.0203 - val_mse: 0.0203\n",
      "Epoch 10/80\n",
      "993/993 [==============================] - 14s 14ms/step - loss: 0.0320 - mse: 0.0320 - val_loss: 0.0197 - val_mse: 0.0197\n",
      "Epoch 11/80\n",
      "993/993 [==============================] - 13s 13ms/step - loss: 0.0308 - mse: 0.0308 - val_loss: 0.0201 - val_mse: 0.0201\n",
      "\n",
      "Epoch 00011: ReduceLROnPlateau reducing learning rate to 0.00010000000474974513.\n",
      "Epoch 12/80\n",
      "993/993 [==============================] - 13s 13ms/step - loss: 0.0286 - mse: 0.0286 - val_loss: 0.0199 - val_mse: 0.0199\n",
      "Epoch 13/80\n",
      "993/993 [==============================] - 13s 13ms/step - loss: 0.0300 - mse: 0.0300 - val_loss: 0.0212 - val_mse: 0.0212\n",
      "Epoch 14/80\n",
      "993/993 [==============================] - 13s 13ms/step - loss: 0.0311 - mse: 0.0311 - val_loss: 0.0216 - val_mse: 0.0216\n"
     ]
    },
    {
     "name": "stderr",
     "output_type": "stream",
     "text": [
      "WARNING:absl:Found untraced functions such as lstm_cell_layer_call_fn, lstm_cell_layer_call_and_return_conditional_losses, lstm_cell_layer_call_fn, lstm_cell_layer_call_and_return_conditional_losses, lstm_cell_layer_call_and_return_conditional_losses while saving (showing 5 of 5). These functions will not be directly callable after loading.\n",
      "WARNING:absl:Found untraced functions such as lstm_cell_layer_call_fn, lstm_cell_layer_call_and_return_conditional_losses, lstm_cell_layer_call_fn, lstm_cell_layer_call_and_return_conditional_losses, lstm_cell_layer_call_and_return_conditional_losses while saving (showing 5 of 5). These functions will not be directly callable after loading.\n"
     ]
    },
    {
     "name": "stdout",
     "output_type": "stream",
     "text": [
      "INFO:tensorflow:Assets written to: ../model/my_NeuralNet_label_high_20/assets\n"
     ]
    },
    {
     "name": "stderr",
     "output_type": "stream",
     "text": [
      "INFO:tensorflow:Assets written to: ../model/my_NeuralNet_label_high_20/assets\n"
     ]
    },
    {
     "name": "stdout",
     "output_type": "stream",
     "text": [
      "label_low_20\n",
      "ExtraTreesRegressor\n",
      "NeuralNet\n",
      "WARNING:tensorflow:`epsilon` argument is deprecated and will be removed, use `min_delta` instead.\n"
     ]
    },
    {
     "name": "stderr",
     "output_type": "stream",
     "text": [
      "WARNING:tensorflow:`epsilon` argument is deprecated and will be removed, use `min_delta` instead.\n"
     ]
    },
    {
     "name": "stdout",
     "output_type": "stream",
     "text": [
      "Epoch 1/80\n",
      "993/993 [==============================] - 24s 16ms/step - loss: 0.2626 - mse: 0.2626 - val_loss: 0.0101 - val_mse: 0.0101\n",
      "Epoch 2/80\n",
      "993/993 [==============================] - 13s 13ms/step - loss: 0.0188 - mse: 0.0188 - val_loss: 0.0074 - val_mse: 0.0074\n",
      "Epoch 3/80\n",
      "993/993 [==============================] - 13s 13ms/step - loss: 0.0074 - mse: 0.0074 - val_loss: 0.0074 - val_mse: 0.0074\n",
      "Epoch 4/80\n",
      "993/993 [==============================] - 13s 13ms/step - loss: 0.0054 - mse: 0.0054 - val_loss: 0.0076 - val_mse: 0.0076\n",
      "Epoch 5/80\n",
      "993/993 [==============================] - 13s 13ms/step - loss: 0.0051 - mse: 0.0051 - val_loss: 0.0080 - val_mse: 0.0080\n",
      "Epoch 6/80\n",
      "993/993 [==============================] - 14s 14ms/step - loss: 0.0050 - mse: 0.0050 - val_loss: 0.0073 - val_mse: 0.0073\n",
      "Epoch 7/80\n",
      "993/993 [==============================] - 13s 13ms/step - loss: 0.0049 - mse: 0.0049 - val_loss: 0.0075 - val_mse: 0.0075\n",
      "Epoch 8/80\n",
      "993/993 [==============================] - 13s 13ms/step - loss: 0.0050 - mse: 0.0050 - val_loss: 0.0076 - val_mse: 0.0076\n",
      "Epoch 9/80\n",
      "993/993 [==============================] - 13s 13ms/step - loss: 0.0051 - mse: 0.0051 - val_loss: 0.0079 - val_mse: 0.0079\n",
      "Epoch 10/80\n",
      "993/993 [==============================] - 13s 13ms/step - loss: 0.0049 - mse: 0.0049 - val_loss: 0.0079 - val_mse: 0.0079\n",
      "Epoch 11/80\n",
      "993/993 [==============================] - 13s 13ms/step - loss: 0.0050 - mse: 0.0050 - val_loss: 0.0075 - val_mse: 0.0075\n",
      "Epoch 12/80\n",
      "993/993 [==============================] - 13s 13ms/step - loss: 0.0048 - mse: 0.0048 - val_loss: 0.0073 - val_mse: 0.0073\n",
      "Epoch 13/80\n",
      "993/993 [==============================] - 14s 14ms/step - loss: 0.0048 - mse: 0.0048 - val_loss: 0.0079 - val_mse: 0.0079\n",
      "\n",
      "Epoch 00013: ReduceLROnPlateau reducing learning rate to 0.00010000000474974513.\n",
      "Epoch 14/80\n",
      "993/993 [==============================] - 13s 13ms/step - loss: 0.0048 - mse: 0.0048 - val_loss: 0.0076 - val_mse: 0.0076\n",
      "Epoch 15/80\n",
      "993/993 [==============================] - 15s 15ms/step - loss: 0.0047 - mse: 0.0047 - val_loss: 0.0075 - val_mse: 0.0075\n",
      "Epoch 16/80\n",
      "993/993 [==============================] - 13s 13ms/step - loss: 0.0047 - mse: 0.0047 - val_loss: 0.0077 - val_mse: 0.0077\n",
      "Epoch 17/80\n",
      "993/993 [==============================] - 13s 13ms/step - loss: 0.0048 - mse: 0.0048 - val_loss: 0.0076 - val_mse: 0.0076\n",
      "Epoch 18/80\n",
      "993/993 [==============================] - 13s 13ms/step - loss: 0.0048 - mse: 0.0048 - val_loss: 0.0076 - val_mse: 0.0076\n",
      "Epoch 19/80\n",
      "993/993 [==============================] - 15s 15ms/step - loss: 0.0046 - mse: 0.0046 - val_loss: 0.0078 - val_mse: 0.0078\n",
      "Epoch 20/80\n",
      "992/993 [============================>.] - ETA: 0s - loss: 0.0048 - mse: 0.0048"
     ]
    }
   ],
   "source": [
    "#cls.train_and_save_model(inputs, model_path=\"../model\")"
   ]
  },
  {
   "cell_type": "code",
   "execution_count": null,
   "metadata": {},
   "outputs": [],
   "source": [
    "labels = [\"label_high_20\", \"label_low_20\"]\n",
    "cls.get_model(labels=labels)"
   ]
  },
  {
   "cell_type": "code",
   "execution_count": 8,
   "metadata": {},
   "outputs": [
    {
     "ename": "FileNotFoundError",
     "evalue": "[Errno 2] No such file or directory: '../../feature/high_low_feature.pkl'",
     "output_type": "error",
     "traceback": [
      "\u001b[0;31m---------------------------------------------------------------------------\u001b[0m",
      "\u001b[0;31mFileNotFoundError\u001b[0m                         Traceback (most recent call last)",
      "\u001b[0;32m<ipython-input-8-673351b28e5e>\u001b[0m in \u001b[0;36m<module>\u001b[0;34m\u001b[0m\n\u001b[0;32m----> 1\u001b[0;31m \u001b[0mret\u001b[0m \u001b[0;34m=\u001b[0m \u001b[0mcls\u001b[0m\u001b[0;34m.\u001b[0m\u001b[0mpredict\u001b[0m\u001b[0;34m(\u001b[0m\u001b[0minputs\u001b[0m\u001b[0;34m)\u001b[0m\u001b[0;34m\u001b[0m\u001b[0;34m\u001b[0m\u001b[0m\n\u001b[0m",
      "\u001b[0;32m/opt/ml/src/predictor_create_model.py\u001b[0m in \u001b[0;36mpredict\u001b[0;34m(cls, inputs, model_names, labels, codes, start_dt)\u001b[0m\n\u001b[1;32m    178\u001b[0m                                   \"../../feature/\")\n\u001b[1;32m    179\u001b[0m         \u001b[0mdata_feats\u001b[0m \u001b[0;34m=\u001b[0m \u001b[0mos\u001b[0m\u001b[0;34m.\u001b[0m\u001b[0mpath\u001b[0m\u001b[0;34m.\u001b[0m\u001b[0mjoin\u001b[0m\u001b[0;34m(\u001b[0m\u001b[0mfeats_path\u001b[0m\u001b[0;34m,\u001b[0m \u001b[0;34m\"high_low_feature.pkl\"\u001b[0m\u001b[0;34m)\u001b[0m\u001b[0;34m\u001b[0m\u001b[0;34m\u001b[0m\u001b[0m\n\u001b[0;32m--> 180\u001b[0;31m         \u001b[0;32mwith\u001b[0m \u001b[0mopen\u001b[0m\u001b[0;34m(\u001b[0m\u001b[0mdata_feats\u001b[0m\u001b[0;34m,\u001b[0m \u001b[0;34m\"rb\"\u001b[0m\u001b[0;34m)\u001b[0m \u001b[0;32mas\u001b[0m \u001b[0mf\u001b[0m\u001b[0;34m:\u001b[0m\u001b[0;34m\u001b[0m\u001b[0;34m\u001b[0m\u001b[0m\n\u001b[0m\u001b[1;32m    181\u001b[0m             \u001b[0mfeats\u001b[0m \u001b[0;34m=\u001b[0m \u001b[0mpickle\u001b[0m\u001b[0;34m.\u001b[0m\u001b[0mload\u001b[0m\u001b[0;34m(\u001b[0m\u001b[0mf\u001b[0m\u001b[0;34m)\u001b[0m\u001b[0;34m\u001b[0m\u001b[0;34m\u001b[0m\u001b[0m\n\u001b[1;32m    182\u001b[0m \u001b[0;34m\u001b[0m\u001b[0m\n",
      "\u001b[0;31mFileNotFoundError\u001b[0m: [Errno 2] No such file or directory: '../../feature/high_low_feature.pkl'"
     ]
    }
   ],
   "source": [
    "ret = cls.predict(inputs)"
   ]
  },
  {
   "cell_type": "code",
   "execution_count": null,
   "metadata": {},
   "outputs": [],
   "source": [
    "ret"
   ]
  },
  {
   "cell_type": "code",
   "execution_count": null,
   "metadata": {},
   "outputs": [],
   "source": []
  },
  {
   "cell_type": "code",
   "execution_count": null,
   "metadata": {},
   "outputs": [],
   "source": []
  },
  {
   "cell_type": "code",
   "execution_count": null,
   "metadata": {},
   "outputs": [],
   "source": []
  }
 ],
 "metadata": {
  "kernelspec": {
   "display_name": "Python 3",
   "language": "python",
   "name": "python3"
  },
  "language_info": {
   "codemirror_mode": {
    "name": "ipython",
    "version": 3
   },
   "file_extension": ".py",
   "mimetype": "text/x-python",
   "name": "python",
   "nbconvert_exporter": "python",
   "pygments_lexer": "ipython3",
   "version": "3.7.3"
  }
 },
 "nbformat": 4,
 "nbformat_minor": 2
}
