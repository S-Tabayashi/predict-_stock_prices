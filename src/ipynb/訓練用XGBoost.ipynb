{
 "cells": [
  {
   "cell_type": "markdown",
   "metadata": {},
   "source": [
    "# Imports & Load Data\n",
    "作業に必要なライブラリをインポートして、 以下のデータを読み込みます。\n",
    "\n",
    "* stock_price : 株価情報\n",
    "* stock_list : 銘柄情報\n",
    "* stock_fin : 財務諸表\n",
    "* stock_labels : 目的変数"
   ]
  },
  {
   "cell_type": "code",
   "execution_count": 1,
   "metadata": {},
   "outputs": [],
   "source": [
    "import os\n",
    "import pickle\n",
    "import sys\n",
    "import warnings\n",
    "from glob import glob\n",
    "\n",
    "import matplotlib\n",
    "import matplotlib.pyplot as plt\n",
    "import numpy as np\n",
    "import pandas as pd\n",
    "import seaborn as sns\n",
    "import shap\n",
    "import  xgboost as xgb\n",
    "from scipy.stats import spearmanr\n",
    "from sklearn.ensemble import (\n",
    "    ExtraTreesRegressor,\n",
    "    GradientBoostingRegressor,\n",
    "    RandomForestRegressor,\n",
    ")\n",
    "from sklearn.metrics import accuracy_score, mean_squared_error\n",
    "from tqdm.auto import tqdm\n",
    "\n",
    "\n",
    "# 表示用の設定を変更します\n",
    "%matplotlib inline\n",
    "pd.options.display.max_rows = 100\n",
    "pd.options.display.max_columns = 100\n",
    "pd.options.display.width = 120"
   ]
  },
  {
   "cell_type": "code",
   "execution_count": 2,
   "metadata": {},
   "outputs": [
    {
     "name": "stdout",
     "output_type": "stream",
     "text": [
      "3.7.3 (default, Mar 27 2019, 22:11:17) \n",
      "[GCC 7.3.0]\n"
     ]
    }
   ],
   "source": [
    "# python 3.7.3であることを確認します\n",
    "import sys\n",
    "print(sys.version)"
   ]
  },
  {
   "cell_type": "code",
   "execution_count": 3,
   "metadata": {},
   "outputs": [],
   "source": [
    "# データセット保存先ディレクトリ（\"\"の中身はご自身の環境に合わせて定義してください。）\n",
    "dataset_dir=\"/path/to\""
   ]
  },
  {
   "cell_type": "code",
   "execution_count": 4,
   "metadata": {},
   "outputs": [
    {
     "name": "stdout",
     "output_type": "stream",
     "text": [
      "stock_list\n",
      "stock_price\n",
      "stock_fin\n",
      "stock_labels\n"
     ]
    }
   ],
   "source": [
    "# 読み込むファイルを定義します。\n",
    "inputs = {\n",
    "    \"stock_list\": f\"{dataset_dir}/stock_list.csv.gz\",\n",
    "    \"stock_price\": f\"{dataset_dir}/stock_price.csv.gz\",\n",
    "    \"stock_fin\": f\"{dataset_dir}/stock_fin.csv.gz\",\n",
    "    # 本チュートリアルでは使用しないため、コメントアウトしています。\n",
    "    # \"stock_fin_price\": f\"{dataset_dir}/stock_fin_price.csv.gz\",\n",
    "    \"stock_labels\": f\"{dataset_dir}/stock_labels.csv.gz\",\n",
    "}\n",
    "\n",
    "# ファイルを読み込みます\n",
    "dfs = {}\n",
    "for k, v in inputs.items():\n",
    "    print(k)\n",
    "    dfs[k] = pd.read_csv(v)"
   ]
  },
  {
   "cell_type": "markdown",
   "metadata": {},
   "source": [
    "# 特徴量の生成"
   ]
  },
  {
   "cell_type": "code",
   "execution_count": 5,
   "metadata": {},
   "outputs": [],
   "source": [
    "def get_feature_columns(dfs, train_X, column_group=\"fundamental+technical\"):\n",
    "    # 特徴量グループを定義\n",
    "    # ファンダメンタル\n",
    "    fundamental_cols = dfs[\"stock_fin\"].select_dtypes(\"float64\").columns\n",
    "    fundamental_cols = fundamental_cols[\n",
    "        fundamental_cols != \"Result_Dividend DividendPayableDate\"\n",
    "        ]\n",
    "    fundamental_cols = fundamental_cols[fundamental_cols != \"Local Code\"]\n",
    "    # 価格変化率\n",
    "    returns_cols = [x for x in train_X.columns if \"return\" in x]\n",
    "    # テクニカル\n",
    "    technical_cols = [\n",
    "        x for x in train_X.columns if\n",
    "        (x not in fundamental_cols) and (x != \"code\")\n",
    "    ]\n",
    "    columns = {\n",
    "        \"fundamental_only\": fundamental_cols,\n",
    "        \"return_only\": returns_cols,\n",
    "        \"technical_only\": technical_cols,\n",
    "        \"fundamental+technical\": list(fundamental_cols) + list(\n",
    "            technical_cols),\n",
    "    }\n",
    "    return columns[column_group]"
   ]
  },
  {
   "cell_type": "code",
   "execution_count": 6,
   "metadata": {},
   "outputs": [],
   "source": [
    "model_path = os.path.join(os.path.dirname(\"__file__\"), \"../model\")\n",
    "test_X_path = os.path.join(os.path.dirname(\"__file__\"), \"../model/proceed_datas/test_X\")\n",
    "test_y_path = os.path.join(os.path.dirname(\"__file__\"), \"../model/proceed_datas/test_y\")\n",
    "val_X_path = os.path.join(os.path.dirname(\"__file__\"), \"../model/proceed_datas/val_X\")\n",
    "val_y_path = os.path.join(os.path.dirname(\"__file__\"), \"../model/proceed_datas/val_y\")\n",
    "train_X_path = os.path.join(os.path.dirname(\"__file__\"), \"../model/proceed_datas/train_X\")\n",
    "train_y_path = os.path.join(os.path.dirname(\"__file__\"), \"../model/proceed_datas/train_y\")"
   ]
  },
  {
   "cell_type": "code",
   "execution_count": 7,
   "metadata": {},
   "outputs": [],
   "source": [
    "# 対象の目的変数を定義\n",
    "labels = {\n",
    "#    \"label_high_5\",\n",
    "#    \"label_high_10\",\n",
    "    \"label_high_20\",\n",
    "#    \"label_low_5\",\n",
    "#    \"label_low_10\",\n",
    "    \"label_low_20\",\n",
    "}"
   ]
  },
  {
   "cell_type": "code",
   "execution_count": 8,
   "metadata": {},
   "outputs": [],
   "source": [
    "# 特徴量追加済みデータ\n",
    "proceed_datas = {\n",
    "    \"train_X\",\n",
    "    \"train_y\",\n",
    "    \"val_X\",\n",
    "    \"val_y\",\n",
    "    \"test_X\",\n",
    "    \"test_y\"\n",
    "}"
   ]
  },
  {
   "cell_type": "code",
   "execution_count": 9,
   "metadata": {},
   "outputs": [],
   "source": [
    "# ライブラリインポート\n",
    "from sklearn.model_selection import GridSearchCV\n",
    "\n",
    "'''\n",
    "reg_cv = GridSearchCV(xgb, {\n",
    "    \"eta\": [0.01, 0.05, 0.1], \n",
    "    \"gamma\": [0.1,0.2,0.3,0.4,0.5],\n",
    "    \"n_estimators\": [50, 100, 200], \n",
    "    \"max_depth\": [5, 7, 9,10,20,30],\n",
    "    \"subsample\":[0.6,0.8,1],\n",
    "    \"colsample_bytree\": [0.5,0.7,0.9],\n",
    "}, verbose=1)\n",
    "'''\n",
    "reg_cv = GridSearchCV(xgb.XGBRegressor(), {\n",
    "    \"booster\":[\"gbtree\"],\n",
    "    \"eta\": [0.109], \n",
    "    \"gamma\": [8.0],\n",
    "    \"n_estimators\": [50], \n",
    "    \"max_depth\": [10],\n",
    "    \"subsample\":[1],\n",
    "    \"colsample_bytree\": [1],\n",
    "    \"random_state\": [0],\n",
    "}, verbose=1)\n"
   ]
  },
  {
   "cell_type": "code",
   "execution_count": 46,
   "metadata": {},
   "outputs": [
    {
     "ename": "SyntaxError",
     "evalue": "EOL while scanning string literal (<ipython-input-46-2693f275bb1f>, line 2)",
     "output_type": "error",
     "traceback": [
      "\u001b[0;36m  File \u001b[0;32m\"<ipython-input-46-2693f275bb1f>\"\u001b[0;36m, line \u001b[0;32m2\u001b[0m\n\u001b[0;31m    'gamma': 1.0, 'max_depth': 5, 'min_chile_wight': 0, '\u001b[0m\n\u001b[0m                                                         ^\u001b[0m\n\u001b[0;31mSyntaxError\u001b[0m\u001b[0;31m:\u001b[0m EOL while scanning string literal\n"
     ]
    }
   ],
   "source": [
    "{'booster': 'dart', 'colsample_bytree': 0.5, 'eta': 0.11, \n",
    " 'gamma': 1.0, 'max_depth': 5, 'min_chile_wight': 0, '\n",
    " n_estimators': 50, 'random_seed': 0, 'subsample': 1.0}\n",
    " \n",
    " \n",
    " 0.07587034814005862"
   ]
  },
  {
   "cell_type": "code",
   "execution_count": 10,
   "metadata": {},
   "outputs": [
    {
     "data": {
      "application/vnd.jupyter.widget-view+json": {
       "model_id": "b6acd942073b490c9b90d47cfab12ea3",
       "version_major": 2,
       "version_minor": 0
      },
      "text/plain": [
       "HBox(children=(IntProgress(value=0, max=2), HTML(value='')))"
      ]
     },
     "metadata": {},
     "output_type": "display_data"
    },
    {
     "name": "stderr",
     "output_type": "stream",
     "text": [
      "You should specify a value for 'cv' instead of relying on the default value. The default value will change from 3 to 5 in version 0.22.\n",
      "[Parallel(n_jobs=1)]: Using backend SequentialBackend with 1 concurrent workers.\n"
     ]
    },
    {
     "name": "stdout",
     "output_type": "stream",
     "text": [
      "Fitting 3 folds for each of 1 candidates, totalling 3 fits\n"
     ]
    },
    {
     "name": "stderr",
     "output_type": "stream",
     "text": [
      "[Parallel(n_jobs=1)]: Done   3 out of   3 | elapsed:   11.3s finished\n",
      "You should specify a value for 'cv' instead of relying on the default value. The default value will change from 3 to 5 in version 0.22.\n",
      "[Parallel(n_jobs=1)]: Using backend SequentialBackend with 1 concurrent workers.\n"
     ]
    },
    {
     "name": "stdout",
     "output_type": "stream",
     "text": [
      "Fitting 3 folds for each of 1 candidates, totalling 3 fits\n"
     ]
    },
    {
     "name": "stderr",
     "output_type": "stream",
     "text": [
      "[Parallel(n_jobs=1)]: Done   3 out of   3 | elapsed:   11.6s finished\n"
     ]
    },
    {
     "name": "stdout",
     "output_type": "stream",
     "text": [
      "\n"
     ]
    }
   ],
   "source": [
    "for label in tqdm(labels):\n",
    "    data_X = os.path.join(train_X_path, f\"train_X_{label}.pkl\")\n",
    "    with open(data_X , \"rb\") as f:\n",
    "        train_X = pickle.load(f)\n",
    "    data_y = os.path.join(train_y_path, f\"train_y_{label}.pkl\")\n",
    "    with open(data_y , \"rb\") as f:\n",
    "        train_y = pickle.load(f)\n",
    "        \n",
    "    feature_columns = get_feature_columns(dfs, train_X, column_group='fundamental+technical')\n",
    "    # 訓練実施\n",
    "    reg_cv.fit(train_X[feature_columns].values, train_y.values)"
   ]
  },
  {
   "cell_type": "code",
   "execution_count": 11,
   "metadata": {},
   "outputs": [
    {
     "name": "stdout",
     "output_type": "stream",
     "text": [
      "{'booster': 'gbtree', 'colsample_bytree': 1, 'eta': 0.109, 'gamma': 8.0, 'max_depth': 10, 'n_estimators': 50, 'random_state': 0, 'subsample': 1}\n",
      "0.009317494100012738\n"
     ]
    }
   ],
   "source": [
    "# 結果を表示\n",
    "print(reg_cv.best_params_)\n",
    "print(reg_cv.best_score_)"
   ]
  },
  {
   "cell_type": "code",
   "execution_count": 12,
   "metadata": {},
   "outputs": [],
   "source": [
    "best_model = reg_cv.best_estimator_"
   ]
  },
  {
   "cell_type": "code",
   "execution_count": 13,
   "metadata": {},
   "outputs": [],
   "source": [
    "SELECT_FIN_DATA_COLUMNS = ['Result_FinancialStatement FiscalYear', 'Result_FinancialStatement NetSales',\n",
    "       'Result_FinancialStatement OperatingIncome', 'Result_FinancialStatement OrdinaryIncome',\n",
    "       'Result_FinancialStatement NetIncome', 'Result_FinancialStatement TotalAssets',\n",
    "       'Result_FinancialStatement NetAssets', 'Result_FinancialStatement CashFlowsFromOperatingActivities',\n",
    "       'Result_FinancialStatement CashFlowsFromFinancingActivities',\n",
    "       'Result_FinancialStatement CashFlowsFromInvestingActivities', 'Forecast_FinancialStatement FiscalYear',\n",
    "       'Forecast_FinancialStatement NetSales', 'Forecast_FinancialStatement OperatingIncome',\n",
    "       'Forecast_FinancialStatement OrdinaryIncome', 'Forecast_FinancialStatement NetIncome',\n",
    "       'Result_Dividend FiscalYear', 'Result_Dividend QuarterlyDividendPerShare',\n",
    "       'Result_Dividend AnnualDividendPerShare', 'Forecast_Dividend FiscalYear',\n",
    "       'Forecast_Dividend QuarterlyDividendPerShare', 'Forecast_Dividend AnnualDividendPerShare',\n",
    "       'IssuedShareEquityQuote IssuedShare','Section/Products', '33 Sector(Code)', '17 Sector(Code)']"
   ]
  },
  {
   "cell_type": "code",
   "execution_count": 14,
   "metadata": {},
   "outputs": [],
   "source": [
    "# 学習用データセット定義\n",
    "# ファンダメンタル情報\n",
    "#fundamental_cols = dfs[\"stock_fin\"].select_dtypes(\"float64\").columns\n",
    "fundamental_cols = pd.Index(SELECT_FIN_DATA_COLUMNS)\n",
    "fundamental_cols = fundamental_cols[fundamental_cols != \"Result_Dividend DividendPayableDate\"]\n",
    "fundamental_cols = fundamental_cols[fundamental_cols != \"Local Code\"]\n",
    "# 価格変化率\n",
    "returns_cols = [x for x in train_X.columns if \"return\" in x]\n",
    "# テクニカル\n",
    "technical_cols = [x for x in train_X.columns if (x not in fundamental_cols) and (x != \"code\")]"
   ]
  },
  {
   "cell_type": "code",
   "execution_count": 15,
   "metadata": {},
   "outputs": [],
   "source": [
    "columns = {\n",
    "    \"fundamental_only\": fundamental_cols,\n",
    "    \"return_only\": returns_cols,\n",
    "    \"technical_only\": technical_cols,\n",
    "    \"fundamental+technical\": list(fundamental_cols) + list(technical_cols),\n",
    "}"
   ]
  },
  {
   "cell_type": "code",
   "execution_count": 16,
   "metadata": {},
   "outputs": [],
   "source": [
    "# 結果保存用\n",
    "all_results = dict()\n",
    "all_results['XGB'] = dict()"
   ]
  },
  {
   "cell_type": "code",
   "execution_count": 17,
   "metadata": {},
   "outputs": [
    {
     "data": {
      "application/vnd.jupyter.widget-view+json": {
       "model_id": "31f81a7cf23f434882a6d91080b97881",
       "version_major": 2,
       "version_minor": 0
      },
      "text/plain": [
       "HBox(children=(IntProgress(value=0, max=2), HTML(value='')))"
      ]
     },
     "metadata": {},
     "output_type": "display_data"
    },
    {
     "name": "stdout",
     "output_type": "stream",
     "text": [
      "\n"
     ]
    },
    {
     "data": {
      "application/vnd.jupyter.widget-view+json": {
       "model_id": "4bb31c000c134be1af41090057df304e",
       "version_major": 2,
       "version_minor": 0
      },
      "text/plain": [
       "HBox(children=(IntProgress(value=0, max=2), HTML(value='')))"
      ]
     },
     "metadata": {},
     "output_type": "display_data"
    },
    {
     "name": "stdout",
     "output_type": "stream",
     "text": [
      "\n"
     ]
    },
    {
     "data": {
      "application/vnd.jupyter.widget-view+json": {
       "model_id": "c83c921aa84e42388a9c5ba960019f05",
       "version_major": 2,
       "version_minor": 0
      },
      "text/plain": [
       "HBox(children=(IntProgress(value=0, max=2), HTML(value='')))"
      ]
     },
     "metadata": {},
     "output_type": "display_data"
    },
    {
     "name": "stdout",
     "output_type": "stream",
     "text": [
      "\n"
     ]
    },
    {
     "data": {
      "application/vnd.jupyter.widget-view+json": {
       "model_id": "bc00181d52574afe9f439aecad970ccd",
       "version_major": 2,
       "version_minor": 0
      },
      "text/plain": [
       "HBox(children=(IntProgress(value=0, max=2), HTML(value='')))"
      ]
     },
     "metadata": {},
     "output_type": "display_data"
    },
    {
     "name": "stdout",
     "output_type": "stream",
     "text": [
      "\n"
     ]
    },
    {
     "data": {
      "application/vnd.jupyter.widget-view+json": {
       "model_id": "fd3d2bf21b90402381e9e0ac159d412e",
       "version_major": 2,
       "version_minor": 0
      },
      "text/plain": [
       "HBox(children=(IntProgress(value=0, max=2), HTML(value='')))"
      ]
     },
     "metadata": {},
     "output_type": "display_data"
    },
    {
     "name": "stdout",
     "output_type": "stream",
     "text": [
      "\n"
     ]
    },
    {
     "data": {
      "application/vnd.jupyter.widget-view+json": {
       "model_id": "6fd8540aa2a14e76990265170380ff62",
       "version_major": 2,
       "version_minor": 0
      },
      "text/plain": [
       "HBox(children=(IntProgress(value=0, max=2), HTML(value='')))"
      ]
     },
     "metadata": {},
     "output_type": "display_data"
    },
    {
     "name": "stdout",
     "output_type": "stream",
     "text": [
      "\n"
     ]
    },
    {
     "data": {
      "application/vnd.jupyter.widget-view+json": {
       "model_id": "83a0375f97ac413a8494cd75b11678ba",
       "version_major": 2,
       "version_minor": 0
      },
      "text/plain": [
       "HBox(children=(IntProgress(value=0, max=2), HTML(value='')))"
      ]
     },
     "metadata": {},
     "output_type": "display_data"
    },
    {
     "name": "stdout",
     "output_type": "stream",
     "text": [
      "\n"
     ]
    },
    {
     "data": {
      "application/vnd.jupyter.widget-view+json": {
       "model_id": "9f6dc3026fa0474a99628e954a0c4719",
       "version_major": 2,
       "version_minor": 0
      },
      "text/plain": [
       "HBox(children=(IntProgress(value=0, max=2), HTML(value='')))"
      ]
     },
     "metadata": {},
     "output_type": "display_data"
    },
    {
     "name": "stdout",
     "output_type": "stream",
     "text": [
      "\n"
     ]
    }
   ],
   "source": [
    "for label in labels:\n",
    "    data_X = os.path.join(test_X_path, f\"test_X_{label}.pkl\")\n",
    "    with open(data_X , \"rb\") as f:\n",
    "        test_X = pickle.load(f)\n",
    "    data_y = os.path.join(test_y_path, f\"test_y_{label}.pkl\")\n",
    "    with open(data_y , \"rb\") as f:\n",
    "        test_y = pickle.load(f)\n",
    "    # データセット毎に処理\n",
    "    for col in columns.keys():\n",
    "        result = dict()\n",
    "        # 目的変数毎に処理\n",
    "        for label in tqdm(labels):\n",
    "            if len(test_X[columns[col]]) > 0:\n",
    "                # モデル取得\n",
    "                pred_model = best_model\n",
    "                # 学習\n",
    "                pred_model.fit(train_X[columns[col]].values, train_y)\n",
    "                # 結果データ作成\n",
    "                result[label] = test_X[[\"code\"]].copy()\n",
    "                result[label][\"datetime\"] = test_X[columns[col]].index\n",
    "                # 予測\n",
    "                result[label][\"predict\"] = pred_model.predict(test_X[columns[col]].values)\n",
    "                result[label][\"predict_dir\"] = np.sign(result[label][\"predict\"])\n",
    "                # 実際の結果\n",
    "                result[label][\"actual\"] = test_y.values\n",
    "                result[label][\"actual_dir\"] = np.sign(result[label][\"actual\"])\n",
    "                result[label].dropna(inplace=True)\n",
    "\n",
    "        all_results['XGB'][col] = result"
   ]
  },
  {
   "cell_type": "code",
   "execution_count": 18,
   "metadata": {},
   "outputs": [
    {
     "data": {
      "text/html": [
       "<div>\n",
       "<style scoped>\n",
       "    .dataframe tbody tr th:only-of-type {\n",
       "        vertical-align: middle;\n",
       "    }\n",
       "\n",
       "    .dataframe tbody tr th {\n",
       "        vertical-align: top;\n",
       "    }\n",
       "\n",
       "    .dataframe thead th {\n",
       "        text-align: right;\n",
       "    }\n",
       "</style>\n",
       "<table border=\"1\" class=\"dataframe\">\n",
       "  <thead>\n",
       "    <tr style=\"text-align: right;\">\n",
       "      <th></th>\n",
       "      <th></th>\n",
       "      <th>code</th>\n",
       "      <th>datetime</th>\n",
       "      <th>predict</th>\n",
       "      <th>predict_dir</th>\n",
       "      <th>actual</th>\n",
       "      <th>actual_dir</th>\n",
       "      <th>model</th>\n",
       "      <th>feature</th>\n",
       "      <th>label</th>\n",
       "    </tr>\n",
       "    <tr>\n",
       "      <th></th>\n",
       "      <th>datetime</th>\n",
       "      <th></th>\n",
       "      <th></th>\n",
       "      <th></th>\n",
       "      <th></th>\n",
       "      <th></th>\n",
       "      <th></th>\n",
       "      <th></th>\n",
       "      <th></th>\n",
       "      <th></th>\n",
       "    </tr>\n",
       "  </thead>\n",
       "  <tbody>\n",
       "    <tr>\n",
       "      <th rowspan=\"5\" valign=\"top\">label_high_20</th>\n",
       "      <th>2019-02-08</th>\n",
       "      <td>1301</td>\n",
       "      <td>2019-02-08</td>\n",
       "      <td>-0.058076</td>\n",
       "      <td>-1.0</td>\n",
       "      <td>0.00604</td>\n",
       "      <td>1.0</td>\n",
       "      <td>XGB</td>\n",
       "      <td>fundamental_only</td>\n",
       "      <td>label_high_20</td>\n",
       "    </tr>\n",
       "    <tr>\n",
       "      <th>2019-05-13</th>\n",
       "      <td>1301</td>\n",
       "      <td>2019-05-13</td>\n",
       "      <td>-0.058076</td>\n",
       "      <td>-1.0</td>\n",
       "      <td>-0.06317</td>\n",
       "      <td>-1.0</td>\n",
       "      <td>XGB</td>\n",
       "      <td>fundamental_only</td>\n",
       "      <td>label_high_20</td>\n",
       "    </tr>\n",
       "    <tr>\n",
       "      <th>2019-08-02</th>\n",
       "      <td>1301</td>\n",
       "      <td>2019-08-02</td>\n",
       "      <td>-0.058076</td>\n",
       "      <td>-1.0</td>\n",
       "      <td>-0.08723</td>\n",
       "      <td>-1.0</td>\n",
       "      <td>XGB</td>\n",
       "      <td>fundamental_only</td>\n",
       "      <td>label_high_20</td>\n",
       "    </tr>\n",
       "    <tr>\n",
       "      <th>2019-11-05</th>\n",
       "      <td>1301</td>\n",
       "      <td>2019-11-05</td>\n",
       "      <td>-0.058076</td>\n",
       "      <td>-1.0</td>\n",
       "      <td>-0.03800</td>\n",
       "      <td>-1.0</td>\n",
       "      <td>XGB</td>\n",
       "      <td>fundamental_only</td>\n",
       "      <td>label_high_20</td>\n",
       "    </tr>\n",
       "    <tr>\n",
       "      <th>2020-02-07</th>\n",
       "      <td>1301</td>\n",
       "      <td>2020-02-07</td>\n",
       "      <td>-0.058076</td>\n",
       "      <td>-1.0</td>\n",
       "      <td>-0.17832</td>\n",
       "      <td>-1.0</td>\n",
       "      <td>XGB</td>\n",
       "      <td>fundamental_only</td>\n",
       "      <td>label_high_20</td>\n",
       "    </tr>\n",
       "  </tbody>\n",
       "</table>\n",
       "</div>"
      ],
      "text/plain": [
       "                          code   datetime   predict  predict_dir   actual  actual_dir model           feature  \\\n",
       "              datetime                                                                                          \n",
       "label_high_20 2019-02-08  1301 2019-02-08 -0.058076         -1.0  0.00604         1.0   XGB  fundamental_only   \n",
       "              2019-05-13  1301 2019-05-13 -0.058076         -1.0 -0.06317        -1.0   XGB  fundamental_only   \n",
       "              2019-08-02  1301 2019-08-02 -0.058076         -1.0 -0.08723        -1.0   XGB  fundamental_only   \n",
       "              2019-11-05  1301 2019-11-05 -0.058076         -1.0 -0.03800        -1.0   XGB  fundamental_only   \n",
       "              2020-02-07  1301 2020-02-07 -0.058076         -1.0 -0.17832        -1.0   XGB  fundamental_only   \n",
       "\n",
       "                                  label  \n",
       "              datetime                   \n",
       "label_high_20 2019-02-08  label_high_20  \n",
       "              2019-05-13  label_high_20  \n",
       "              2019-08-02  label_high_20  \n",
       "              2019-11-05  label_high_20  \n",
       "              2020-02-07  label_high_20  "
      ]
     },
     "execution_count": 18,
     "metadata": {},
     "output_type": "execute_result"
    }
   ],
   "source": [
    "results = []\n",
    "for model in all_results.keys():\n",
    "    for col in all_results[model]:\n",
    "        tmp = pd.concat(all_results[model][col])\n",
    "        tmp[\"model\"] = model\n",
    "        tmp[\"feature\"] = col\n",
    "        results.append(tmp)\n",
    "results = pd.concat(results)\n",
    "results[\"label\"] = [x[0] for x in results.index]\n",
    "results.head(5)"
   ]
  },
  {
   "cell_type": "code",
   "execution_count": 19,
   "metadata": {},
   "outputs": [
    {
     "data": {
      "text/html": [
       "<div>\n",
       "<style scoped>\n",
       "    .dataframe tbody tr th:only-of-type {\n",
       "        vertical-align: middle;\n",
       "    }\n",
       "\n",
       "    .dataframe tbody tr th {\n",
       "        vertical-align: top;\n",
       "    }\n",
       "\n",
       "    .dataframe thead th {\n",
       "        text-align: right;\n",
       "    }\n",
       "</style>\n",
       "<table border=\"1\" class=\"dataframe\">\n",
       "  <thead>\n",
       "    <tr style=\"text-align: right;\">\n",
       "      <th></th>\n",
       "      <th>index</th>\n",
       "      <th>RMSE</th>\n",
       "      <th>accuracy</th>\n",
       "      <th>spearman_corr</th>\n",
       "      <th>corr</th>\n",
       "      <th>R^2 score</th>\n",
       "      <th>feature</th>\n",
       "      <th>model</th>\n",
       "      <th># of samples</th>\n",
       "    </tr>\n",
       "  </thead>\n",
       "  <tbody>\n",
       "    <tr>\n",
       "      <th>0</th>\n",
       "      <td>label_high_20</td>\n",
       "      <td>0.105216</td>\n",
       "      <td>0.867938</td>\n",
       "      <td>0.00229071</td>\n",
       "      <td>0.000418879</td>\n",
       "      <td>1.75459e-07</td>\n",
       "      <td>fundamental_only</td>\n",
       "      <td>XGB</td>\n",
       "      <td>32515</td>\n",
       "    </tr>\n",
       "    <tr>\n",
       "      <th>1</th>\n",
       "      <td>label_low_20</td>\n",
       "      <td>0.105216</td>\n",
       "      <td>0.867938</td>\n",
       "      <td>0.00229071</td>\n",
       "      <td>0.000418879</td>\n",
       "      <td>1.75459e-07</td>\n",
       "      <td>fundamental_only</td>\n",
       "      <td>XGB</td>\n",
       "      <td>32515</td>\n",
       "    </tr>\n",
       "    <tr>\n",
       "      <th>2</th>\n",
       "      <td>label_high_20</td>\n",
       "      <td>0.10497</td>\n",
       "      <td>0.867938</td>\n",
       "      <td>-0.0365401</td>\n",
       "      <td>0.0773994</td>\n",
       "      <td>0.00599066</td>\n",
       "      <td>return_only</td>\n",
       "      <td>XGB</td>\n",
       "      <td>32515</td>\n",
       "    </tr>\n",
       "    <tr>\n",
       "      <th>3</th>\n",
       "      <td>label_low_20</td>\n",
       "      <td>0.10497</td>\n",
       "      <td>0.867938</td>\n",
       "      <td>-0.0365401</td>\n",
       "      <td>0.0773994</td>\n",
       "      <td>0.00599066</td>\n",
       "      <td>return_only</td>\n",
       "      <td>XGB</td>\n",
       "      <td>32515</td>\n",
       "    </tr>\n",
       "    <tr>\n",
       "      <th>4</th>\n",
       "      <td>label_high_20</td>\n",
       "      <td>0.104945</td>\n",
       "      <td>0.867938</td>\n",
       "      <td>0.075193</td>\n",
       "      <td>0.0716639</td>\n",
       "      <td>0.00513572</td>\n",
       "      <td>technical_only</td>\n",
       "      <td>XGB</td>\n",
       "      <td>32515</td>\n",
       "    </tr>\n",
       "    <tr>\n",
       "      <th>5</th>\n",
       "      <td>label_low_20</td>\n",
       "      <td>0.104945</td>\n",
       "      <td>0.867938</td>\n",
       "      <td>0.075193</td>\n",
       "      <td>0.0716639</td>\n",
       "      <td>0.00513572</td>\n",
       "      <td>technical_only</td>\n",
       "      <td>XGB</td>\n",
       "      <td>32515</td>\n",
       "    </tr>\n",
       "    <tr>\n",
       "      <th>6</th>\n",
       "      <td>label_high_20</td>\n",
       "      <td>0.104945</td>\n",
       "      <td>0.867938</td>\n",
       "      <td>0.075193</td>\n",
       "      <td>0.0716639</td>\n",
       "      <td>0.00513572</td>\n",
       "      <td>fundamental+technical</td>\n",
       "      <td>XGB</td>\n",
       "      <td>32515</td>\n",
       "    </tr>\n",
       "    <tr>\n",
       "      <th>7</th>\n",
       "      <td>label_low_20</td>\n",
       "      <td>0.104945</td>\n",
       "      <td>0.867938</td>\n",
       "      <td>0.075193</td>\n",
       "      <td>0.0716639</td>\n",
       "      <td>0.00513572</td>\n",
       "      <td>fundamental+technical</td>\n",
       "      <td>XGB</td>\n",
       "      <td>32515</td>\n",
       "    </tr>\n",
       "  </tbody>\n",
       "</table>\n",
       "</div>"
      ],
      "text/plain": [
       "           index      RMSE  accuracy spearman_corr         corr    R^2 score                feature model # of samples\n",
       "0  label_high_20  0.105216  0.867938    0.00229071  0.000418879  1.75459e-07       fundamental_only   XGB        32515\n",
       "1   label_low_20  0.105216  0.867938    0.00229071  0.000418879  1.75459e-07       fundamental_only   XGB        32515\n",
       "2  label_high_20   0.10497  0.867938    -0.0365401    0.0773994   0.00599066            return_only   XGB        32515\n",
       "3   label_low_20   0.10497  0.867938    -0.0365401    0.0773994   0.00599066            return_only   XGB        32515\n",
       "4  label_high_20  0.104945  0.867938      0.075193    0.0716639   0.00513572         technical_only   XGB        32515\n",
       "5   label_low_20  0.104945  0.867938      0.075193    0.0716639   0.00513572         technical_only   XGB        32515\n",
       "6  label_high_20  0.104945  0.867938      0.075193    0.0716639   0.00513572  fundamental+technical   XGB        32515\n",
       "7   label_low_20  0.104945  0.867938      0.075193    0.0716639   0.00513572  fundamental+technical   XGB        32515"
      ]
     },
     "execution_count": 19,
     "metadata": {},
     "output_type": "execute_result"
    }
   ],
   "source": [
    "# 結果保存用変数\n",
    "all_metrics = []\n",
    "\n",
    "# データセット毎に処理\n",
    "for feature in columns:\n",
    "    matrix = dict()\n",
    "    # 目的変数毎に処理\n",
    "    for label in labels:\n",
    "        # 処理対象データに絞り込み\n",
    "        tmp_df = results[(results[\"model\"] == \"XGB\") & (results[\"label\"] == label) & (results[\"feature\"] == feature)]\n",
    "        # RMSE\n",
    "        rmse = np.sqrt(mean_squared_error(tmp_df[\"predict\"], tmp_df[\"actual\"]))\n",
    "        # 精度\n",
    "        accuracy = accuracy_score(tmp_df[\"predict_dir\"], tmp_df[\"actual_dir\"])\n",
    "        # 相関係数\n",
    "        corr = np.corrcoef(tmp_df[\"actual\"], tmp_df[\"predict\"])[0, 1]\n",
    "        # 順位相関\n",
    "        spearman_corr = spearmanr(tmp_df[\"actual\"], tmp_df[\"predict\"])[0]\n",
    "        # 結果を保存\n",
    "        matrix[label] = [rmse, accuracy, spearman_corr,corr, corr**2, feature, model, tmp_df.shape[0]]\n",
    "    res = pd.DataFrame.from_dict(matrix).T\n",
    "    res.columns = [\"RMSE\",\"accuracy\",\"spearman_corr\",\"corr\",\"R^2 score\",\"feature\", \"model\", \"# of samples\"]\n",
    "    all_metrics.append(res)\n",
    "all_metrics = pd.concat(all_metrics)\n",
    "all_metrics.reset_index()"
   ]
  },
  {
   "cell_type": "code",
   "execution_count": 20,
   "metadata": {},
   "outputs": [],
   "source": [
    "tmp = all_metrics.drop(columns=[\"# of samples\"])"
   ]
  },
  {
   "cell_type": "code",
   "execution_count": 21,
   "metadata": {
    "scrolled": true
   },
   "outputs": [],
   "source": [
    "tmp.to_csv('result_XGB.csv', index=None)"
   ]
  },
  {
   "cell_type": "code",
   "execution_count": 22,
   "metadata": {},
   "outputs": [],
   "source": [
    "tmp = pd.read_csv('result_XGB.csv')"
   ]
  },
  {
   "cell_type": "code",
   "execution_count": 23,
   "metadata": {},
   "outputs": [
    {
     "data": {
      "text/html": [
       "<div>\n",
       "<style scoped>\n",
       "    .dataframe tbody tr th:only-of-type {\n",
       "        vertical-align: middle;\n",
       "    }\n",
       "\n",
       "    .dataframe tbody tr th {\n",
       "        vertical-align: top;\n",
       "    }\n",
       "\n",
       "    .dataframe thead th {\n",
       "        text-align: right;\n",
       "    }\n",
       "</style>\n",
       "<table border=\"1\" class=\"dataframe\">\n",
       "  <thead>\n",
       "    <tr style=\"text-align: right;\">\n",
       "      <th></th>\n",
       "      <th></th>\n",
       "      <th>RMSE</th>\n",
       "      <th>accuracy</th>\n",
       "      <th>spearman_corr</th>\n",
       "      <th>corr</th>\n",
       "      <th>R^2 score</th>\n",
       "    </tr>\n",
       "    <tr>\n",
       "      <th>feature</th>\n",
       "      <th>model</th>\n",
       "      <th></th>\n",
       "      <th></th>\n",
       "      <th></th>\n",
       "      <th></th>\n",
       "      <th></th>\n",
       "    </tr>\n",
       "  </thead>\n",
       "  <tbody>\n",
       "    <tr>\n",
       "      <th>fundamental+technical</th>\n",
       "      <th>XGB</th>\n",
       "      <td>0.104945</td>\n",
       "      <td>0.867938</td>\n",
       "      <td>0.075193</td>\n",
       "      <td>0.071664</td>\n",
       "      <td>5.135721e-03</td>\n",
       "    </tr>\n",
       "    <tr>\n",
       "      <th>fundamental_only</th>\n",
       "      <th>XGB</th>\n",
       "      <td>0.105216</td>\n",
       "      <td>0.867938</td>\n",
       "      <td>0.002291</td>\n",
       "      <td>0.000419</td>\n",
       "      <td>1.754595e-07</td>\n",
       "    </tr>\n",
       "    <tr>\n",
       "      <th>return_only</th>\n",
       "      <th>XGB</th>\n",
       "      <td>0.104970</td>\n",
       "      <td>0.867938</td>\n",
       "      <td>-0.036540</td>\n",
       "      <td>0.077399</td>\n",
       "      <td>5.990661e-03</td>\n",
       "    </tr>\n",
       "    <tr>\n",
       "      <th>technical_only</th>\n",
       "      <th>XGB</th>\n",
       "      <td>0.104945</td>\n",
       "      <td>0.867938</td>\n",
       "      <td>0.075193</td>\n",
       "      <td>0.071664</td>\n",
       "      <td>5.135721e-03</td>\n",
       "    </tr>\n",
       "  </tbody>\n",
       "</table>\n",
       "</div>"
      ],
      "text/plain": [
       "                                 RMSE  accuracy  spearman_corr      corr     R^2 score\n",
       "feature               model                                                           \n",
       "fundamental+technical XGB    0.104945  0.867938       0.075193  0.071664  5.135721e-03\n",
       "fundamental_only      XGB    0.105216  0.867938       0.002291  0.000419  1.754595e-07\n",
       "return_only           XGB    0.104970  0.867938      -0.036540  0.077399  5.990661e-03\n",
       "technical_only        XGB    0.104945  0.867938       0.075193  0.071664  5.135721e-03"
      ]
     },
     "execution_count": 23,
     "metadata": {},
     "output_type": "execute_result"
    }
   ],
   "source": [
    "tmp.groupby(['feature', 'model']).mean()"
   ]
  },
  {
   "cell_type": "code",
   "execution_count": null,
   "metadata": {},
   "outputs": [],
   "source": []
  },
  {
   "cell_type": "code",
   "execution_count": null,
   "metadata": {},
   "outputs": [],
   "source": []
  }
 ],
 "metadata": {
  "kernelspec": {
   "display_name": "Python 3",
   "language": "python",
   "name": "python3"
  },
  "language_info": {
   "codemirror_mode": {
    "name": "ipython",
    "version": 3
   },
   "file_extension": ".py",
   "mimetype": "text/x-python",
   "name": "python",
   "nbconvert_exporter": "python",
   "pygments_lexer": "ipython3",
   "version": "3.7.3"
  }
 },
 "nbformat": 4,
 "nbformat_minor": 2
}
